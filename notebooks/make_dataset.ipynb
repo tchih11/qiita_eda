{
  "nbformat": 4,
  "nbformat_minor": 0,
  "metadata": {
    "colab": {
      "name": "make_dataset.ipynb",
      "provenance": [],
      "collapsed_sections": [],
      "authorship_tag": "ABX9TyMAUhj01tO7REBz7j5bgfp3",
      "include_colab_link": true
    },
    "kernelspec": {
      "name": "python3",
      "display_name": "Python 3"
    }
  },
  "cells": [
    {
      "cell_type": "markdown",
      "metadata": {
        "id": "view-in-github",
        "colab_type": "text"
      },
      "source": [
        "<a href=\"https://colab.research.google.com/github/tchih11/qiita_eda/blob/main/notebooks/make_dataset.ipynb\" target=\"_parent\"><img src=\"https://colab.research.google.com/assets/colab-badge.svg\" alt=\"Open In Colab\"/></a>"
      ]
    },
    {
      "cell_type": "code",
      "metadata": {
        "id": "hLFPYdM0R0p2"
      },
      "source": [
        "%%capture\r\n",
        "!pip install neologdn\r\n",
        "!pip install category_encoders\r\n",
        "\r\n",
        "import glob\r\n",
        "import os\r\n",
        "import pathlib\r\n",
        "import tarfile\r\n",
        "\r\n",
        "import category_encoders as ce\r\n",
        "import neologdn\r\n",
        "import pandas as pd"
      ],
      "execution_count": 1,
      "outputs": []
    },
    {
      "cell_type": "code",
      "metadata": {
        "id": "Ng35glCWUrhO",
        "outputId": "35a57739-328e-4a50-9df3-4d3a240beab3",
        "colab": {
          "base_uri": "https://localhost:8080/"
        }
      },
      "source": [
        "# Livedoorニュースのファイルをダウンロード\r\n",
        "! wget \"https://www.rondhuit.com/download/ldcc-20140209.tar.gz\"\r\n",
        "\r\n",
        "# rawデータ解凍\r\n",
        "tar = tarfile.open(\"./ldcc-20140209.tar.gz\", \"r:gz\")\r\n",
        "tar.extractall(\".\")\r\n",
        "tar.close()"
      ],
      "execution_count": 2,
      "outputs": [
        {
          "output_type": "stream",
          "text": [
            "--2021-02-08 03:41:54--  https://www.rondhuit.com/download/ldcc-20140209.tar.gz\n",
            "Resolving www.rondhuit.com (www.rondhuit.com)... 59.106.19.174\n",
            "Connecting to www.rondhuit.com (www.rondhuit.com)|59.106.19.174|:443... connected.\n",
            "HTTP request sent, awaiting response... 200 OK\n",
            "Length: 8855190 (8.4M) [application/x-gzip]\n",
            "Saving to: ‘ldcc-20140209.tar.gz’\n",
            "\n",
            "ldcc-20140209.tar.g 100%[===================>]   8.44M  1.71MB/s    in 4.9s    \n",
            "\n",
            "2021-02-08 03:41:59 (1.71 MB/s) - ‘ldcc-20140209.tar.gz’ saved [8855190/8855190]\n",
            "\n"
          ],
          "name": "stdout"
        }
      ]
    },
    {
      "cell_type": "code",
      "metadata": {
        "id": "aBTiz5NkUii6"
      },
      "source": [
        "df = pd.DataFrame(columns=[\"text\", \"category\"])\r\n",
        "\r\n",
        "for file_path in pathlib.Path(\"./text\").glob(\"**/*.txt\"):\r\n",
        "    f_path = pathlib.Path(file_path)\r\n",
        "    file_name = f_path.name\r\n",
        "    category_name = f_path.parent.name\r\n",
        "\r\n",
        "    # 特殊ファイルはスキップ\r\n",
        "    if file_name in [\"CHANGES.txt\", \"README.txt\", \"LICENSE.txt\"]:\r\n",
        "        continue\r\n",
        "\r\n",
        "    with open(file_path, \"r\") as f:\r\n",
        "        text_all = f.read()\r\n",
        "        text_lines = text_all.split(\"\\n\")\r\n",
        "        url, time, title, *text = text_lines\r\n",
        "\r\n",
        "        # text前処理\r\n",
        "        text = \"\".join(text)\r\n",
        "        text = text.strip()\r\n",
        "        text = neologdn.normalize(text)\r\n",
        "        text = text.replace(' ', '')\r\n",
        "        text = text.replace('　', '')\r\n",
        "\r\n",
        "        df.loc[file_name] = [text,category_name]\r\n",
        "        \r\n",
        "# インデックスに使用していたファイル名を削除\r\n",
        "df.reset_index(inplace=True,drop=True)\r\n",
        "\r\n",
        "# カテゴリをエンコーディング\r\n",
        "ce_oe = ce.OrdinalEncoder(cols='category',handle_unknown='impute',return_df=True)\r\n",
        "df = ce_oe.fit_transform(df)\r\n",
        "# モデリング時に、ラベルは0から始まらないとエラーになる\r\n",
        "df[\"category\"] = df.category - 1\r\n",
        "\r\n",
        "# 重複する記事を削除\r\n",
        "df = df.drop_duplicates()\r\n",
        "df.reset_index(inplace=True,drop=True)"
      ],
      "execution_count": 3,
      "outputs": []
    },
    {
      "cell_type": "code",
      "metadata": {
        "colab": {
          "base_uri": "https://localhost:8080/"
        },
        "id": "TYA4Gopruo_C",
        "outputId": "83ea0fa6-4ec6-4c21-cee2-9d05b7f36bdf"
      },
      "source": [
        "# 保存\r\n",
        "if not os.path.exists(\"./data\"):\r\n",
        "    os.mkdir(\"./data\")\r\n",
        "\r\n",
        "# 全体の2割の文章数\r\n",
        "df = df.sample(frac=1, random_state=123).reset_index(drop=True)\r\n",
        "len_0_2 = len(df) // 5\r\n",
        "\r\n",
        "# 前から2割をテストデータとする\r\n",
        "test_df = df[:len_0_2].reset_index(drop=True)\r\n",
        "test_df.to_pickle(\"./data/test_df.pkl\")\r\n",
        "print(test_df.shape)\r\n",
        "\r\n",
        "# 前2割からを訓練&検証データとする\r\n",
        "train_eval_df = df[len_0_2:].reset_index(drop=True)\r\n",
        "train_eval_df.to_pickle(\"./data/train_eval_df.pkl\")\r\n",
        "print(train_eval_df.shape)"
      ],
      "execution_count": 4,
      "outputs": [
        {
          "output_type": "stream",
          "text": [
            "(1471, 2)\n",
            "(5888, 2)\n"
          ],
          "name": "stdout"
        }
      ]
    },
    {
      "cell_type": "code",
      "metadata": {
        "id": "mHP_NQ9DORv0",
        "outputId": "7b78c960-7eed-4780-ff70-d899b134f97d",
        "colab": {
          "base_uri": "https://localhost:8080/",
          "height": 419
        }
      },
      "source": [
        "train_eval_df"
      ],
      "execution_count": 5,
      "outputs": [
        {
          "output_type": "execute_result",
          "data": {
            "text/html": [
              "<div>\n",
              "<style scoped>\n",
              "    .dataframe tbody tr th:only-of-type {\n",
              "        vertical-align: middle;\n",
              "    }\n",
              "\n",
              "    .dataframe tbody tr th {\n",
              "        vertical-align: top;\n",
              "    }\n",
              "\n",
              "    .dataframe thead th {\n",
              "        text-align: right;\n",
              "    }\n",
              "</style>\n",
              "<table border=\"1\" class=\"dataframe\">\n",
              "  <thead>\n",
              "    <tr style=\"text-align: right;\">\n",
              "      <th></th>\n",
              "      <th>text</th>\n",
              "      <th>category</th>\n",
              "    </tr>\n",
              "  </thead>\n",
              "  <tbody>\n",
              "    <tr>\n",
              "      <th>0</th>\n",
              "      <td>誰も教えてくれなかったファッションのヒミツを、内面の魅力から解き明かし、あなたが着るべきスー...</td>\n",
              "      <td>4</td>\n",
              "    </tr>\n",
              "    <tr>\n",
              "      <th>1</th>\n",
              "      <td>ARROWSZISW11Fのケータイアップデートが再開!KDDIおよび沖縄セルラーは23日、...</td>\n",
              "      <td>8</td>\n",
              "    </tr>\n",
              "    <tr>\n",
              "      <th>2</th>\n",
              "      <td>11日、映画『ヒミズ』のヒットを願って、市谷亀岡八幡宮にて祈願イベントが行われた。ヴェネチア...</td>\n",
              "      <td>1</td>\n",
              "    </tr>\n",
              "    <tr>\n",
              "      <th>3</th>\n",
              "      <td>「あたしゃねぇ、もう30年も銭湯やってるけど、自分の都合で店しめたことなんか、ないんだよ!休...</td>\n",
              "      <td>2</td>\n",
              "    </tr>\n",
              "    <tr>\n",
              "      <th>4</th>\n",
              "      <td>オフィスで会議用などの大量の資料組をする際、複合機で印刷と同時に穴あけやホチキス止めも行って...</td>\n",
              "      <td>6</td>\n",
              "    </tr>\n",
              "    <tr>\n",
              "      <th>...</th>\n",
              "      <td>...</td>\n",
              "      <td>...</td>\n",
              "    </tr>\n",
              "    <tr>\n",
              "      <th>5883</th>\n",
              "      <td>先日冬の訪れを告げる木枯らし1号が東京都心で観測された。気温が急に下がったり上がったりで、最...</td>\n",
              "      <td>6</td>\n",
              "    </tr>\n",
              "    <tr>\n",
              "      <th>5884</th>\n",
              "      <td>ウェディングドレスのデザイナーは「アレキサンダー・マックイーン」のサラ・バートンついに世界中...</td>\n",
              "      <td>5</td>\n",
              "    </tr>\n",
              "    <tr>\n",
              "      <th>5885</th>\n",
              "      <td>本日27日(日本時間)に開催された「第84回アカデミー賞」授賞式にて、3月1日(木・映画の日...</td>\n",
              "      <td>1</td>\n",
              "    </tr>\n",
              "    <tr>\n",
              "      <th>5886</th>\n",
              "      <td>友達とシェアしたい写真をFacebookにアップしたら、相手にも気づいてほしい!1人や2人な...</td>\n",
              "      <td>3</td>\n",
              "    </tr>\n",
              "    <tr>\n",
              "      <th>5887</th>\n",
              "      <td>ビジネス、レジャー、デート・・・。あらゆるシーンで重宝されるゴルフは、もはやデキルオトコの“...</td>\n",
              "      <td>4</td>\n",
              "    </tr>\n",
              "  </tbody>\n",
              "</table>\n",
              "<p>5888 rows × 2 columns</p>\n",
              "</div>"
            ],
            "text/plain": [
              "                                                   text  category\n",
              "0     誰も教えてくれなかったファッションのヒミツを、内面の魅力から解き明かし、あなたが着るべきスー...         4\n",
              "1     ARROWSZISW11Fのケータイアップデートが再開!KDDIおよび沖縄セルラーは23日、...         8\n",
              "2     11日、映画『ヒミズ』のヒットを願って、市谷亀岡八幡宮にて祈願イベントが行われた。ヴェネチア...         1\n",
              "3     「あたしゃねぇ、もう30年も銭湯やってるけど、自分の都合で店しめたことなんか、ないんだよ!休...         2\n",
              "4     オフィスで会議用などの大量の資料組をする際、複合機で印刷と同時に穴あけやホチキス止めも行って...         6\n",
              "...                                                 ...       ...\n",
              "5883  先日冬の訪れを告げる木枯らし1号が東京都心で観測された。気温が急に下がったり上がったりで、最...         6\n",
              "5884  ウェディングドレスのデザイナーは「アレキサンダー・マックイーン」のサラ・バートンついに世界中...         5\n",
              "5885  本日27日(日本時間)に開催された「第84回アカデミー賞」授賞式にて、3月1日(木・映画の日...         1\n",
              "5886  友達とシェアしたい写真をFacebookにアップしたら、相手にも気づいてほしい!1人や2人な...         3\n",
              "5887  ビジネス、レジャー、デート・・・。あらゆるシーンで重宝されるゴルフは、もはやデキルオトコの“...         4\n",
              "\n",
              "[5888 rows x 2 columns]"
            ]
          },
          "metadata": {
            "tags": []
          },
          "execution_count": 5
        }
      ]
    }
  ]
}