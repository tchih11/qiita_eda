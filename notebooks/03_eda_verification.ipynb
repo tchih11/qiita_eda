{
  "nbformat": 4,
  "nbformat_minor": 0,
  "metadata": {
    "colab": {
      "name": "eda_verification.ipynb",
      "provenance": [],
      "collapsed_sections": [],
      "include_colab_link": true
    },
    "kernelspec": {
      "name": "python3",
      "display_name": "Python 3"
    },
    "accelerator": "GPU",
    "widgets": {
      "application/vnd.jupyter.widget-state+json": {
        "ca393130422c4ecf8b3598ee2e9456cc": {
          "model_module": "@jupyter-widgets/controls",
          "model_name": "HBoxModel",
          "state": {
            "_view_name": "HBoxView",
            "_dom_classes": [],
            "_model_name": "HBoxModel",
            "_view_module": "@jupyter-widgets/controls",
            "_model_module_version": "1.5.0",
            "_view_count": null,
            "_view_module_version": "1.5.0",
            "box_style": "",
            "layout": "IPY_MODEL_968097ab5d97409f8eda8e5f58e6bf47",
            "_model_module": "@jupyter-widgets/controls",
            "children": [
              "IPY_MODEL_bbce01a55cc34f7d86ce8d64a0e9a1fa",
              "IPY_MODEL_bd66977a104f46ebb106c0681e2bc03c"
            ]
          }
        },
        "968097ab5d97409f8eda8e5f58e6bf47": {
          "model_module": "@jupyter-widgets/base",
          "model_name": "LayoutModel",
          "state": {
            "_view_name": "LayoutView",
            "grid_template_rows": null,
            "right": null,
            "justify_content": null,
            "_view_module": "@jupyter-widgets/base",
            "overflow": null,
            "_model_module_version": "1.2.0",
            "_view_count": null,
            "flex_flow": null,
            "width": null,
            "min_width": null,
            "border": null,
            "align_items": null,
            "bottom": null,
            "_model_module": "@jupyter-widgets/base",
            "top": null,
            "grid_column": null,
            "overflow_y": null,
            "overflow_x": null,
            "grid_auto_flow": null,
            "grid_area": null,
            "grid_template_columns": null,
            "flex": null,
            "_model_name": "LayoutModel",
            "justify_items": null,
            "grid_row": null,
            "max_height": null,
            "align_content": null,
            "visibility": null,
            "align_self": null,
            "height": null,
            "min_height": null,
            "padding": null,
            "grid_auto_rows": null,
            "grid_gap": null,
            "max_width": null,
            "order": null,
            "_view_module_version": "1.2.0",
            "grid_template_areas": null,
            "object_position": null,
            "object_fit": null,
            "grid_auto_columns": null,
            "margin": null,
            "display": null,
            "left": null
          }
        },
        "bbce01a55cc34f7d86ce8d64a0e9a1fa": {
          "model_module": "@jupyter-widgets/controls",
          "model_name": "FloatProgressModel",
          "state": {
            "_view_name": "ProgressView",
            "style": "IPY_MODEL_6b7e0e90f6784f4c9ecccdb73e0a93f2",
            "_dom_classes": [],
            "description": "Downloading: 100%",
            "_model_name": "FloatProgressModel",
            "bar_style": "success",
            "max": 15683,
            "_view_module": "@jupyter-widgets/controls",
            "_model_module_version": "1.5.0",
            "value": 15683,
            "_view_count": null,
            "_view_module_version": "1.5.0",
            "orientation": "horizontal",
            "min": 0,
            "description_tooltip": null,
            "_model_module": "@jupyter-widgets/controls",
            "layout": "IPY_MODEL_39f19a4a91c84aeab5200660fc69f22b"
          }
        },
        "bd66977a104f46ebb106c0681e2bc03c": {
          "model_module": "@jupyter-widgets/controls",
          "model_name": "HTMLModel",
          "state": {
            "_view_name": "HTMLView",
            "style": "IPY_MODEL_93f0d990eaac4e04a404327ca6bb8498",
            "_dom_classes": [],
            "description": "",
            "_model_name": "HTMLModel",
            "placeholder": "​",
            "_view_module": "@jupyter-widgets/controls",
            "_model_module_version": "1.5.0",
            "value": " 15.7k/15.7k [00:00&lt;00:00, 81.5kB/s]",
            "_view_count": null,
            "_view_module_version": "1.5.0",
            "description_tooltip": null,
            "_model_module": "@jupyter-widgets/controls",
            "layout": "IPY_MODEL_33c576b9fb124ebea93a1de0c195a1c7"
          }
        },
        "6b7e0e90f6784f4c9ecccdb73e0a93f2": {
          "model_module": "@jupyter-widgets/controls",
          "model_name": "ProgressStyleModel",
          "state": {
            "_view_name": "StyleView",
            "_model_name": "ProgressStyleModel",
            "description_width": "initial",
            "_view_module": "@jupyter-widgets/base",
            "_model_module_version": "1.5.0",
            "_view_count": null,
            "_view_module_version": "1.2.0",
            "bar_color": null,
            "_model_module": "@jupyter-widgets/controls"
          }
        },
        "39f19a4a91c84aeab5200660fc69f22b": {
          "model_module": "@jupyter-widgets/base",
          "model_name": "LayoutModel",
          "state": {
            "_view_name": "LayoutView",
            "grid_template_rows": null,
            "right": null,
            "justify_content": null,
            "_view_module": "@jupyter-widgets/base",
            "overflow": null,
            "_model_module_version": "1.2.0",
            "_view_count": null,
            "flex_flow": null,
            "width": null,
            "min_width": null,
            "border": null,
            "align_items": null,
            "bottom": null,
            "_model_module": "@jupyter-widgets/base",
            "top": null,
            "grid_column": null,
            "overflow_y": null,
            "overflow_x": null,
            "grid_auto_flow": null,
            "grid_area": null,
            "grid_template_columns": null,
            "flex": null,
            "_model_name": "LayoutModel",
            "justify_items": null,
            "grid_row": null,
            "max_height": null,
            "align_content": null,
            "visibility": null,
            "align_self": null,
            "height": null,
            "min_height": null,
            "padding": null,
            "grid_auto_rows": null,
            "grid_gap": null,
            "max_width": null,
            "order": null,
            "_view_module_version": "1.2.0",
            "grid_template_areas": null,
            "object_position": null,
            "object_fit": null,
            "grid_auto_columns": null,
            "margin": null,
            "display": null,
            "left": null
          }
        },
        "93f0d990eaac4e04a404327ca6bb8498": {
          "model_module": "@jupyter-widgets/controls",
          "model_name": "DescriptionStyleModel",
          "state": {
            "_view_name": "StyleView",
            "_model_name": "DescriptionStyleModel",
            "description_width": "",
            "_view_module": "@jupyter-widgets/base",
            "_model_module_version": "1.5.0",
            "_view_count": null,
            "_view_module_version": "1.2.0",
            "_model_module": "@jupyter-widgets/controls"
          }
        },
        "33c576b9fb124ebea93a1de0c195a1c7": {
          "model_module": "@jupyter-widgets/base",
          "model_name": "LayoutModel",
          "state": {
            "_view_name": "LayoutView",
            "grid_template_rows": null,
            "right": null,
            "justify_content": null,
            "_view_module": "@jupyter-widgets/base",
            "overflow": null,
            "_model_module_version": "1.2.0",
            "_view_count": null,
            "flex_flow": null,
            "width": null,
            "min_width": null,
            "border": null,
            "align_items": null,
            "bottom": null,
            "_model_module": "@jupyter-widgets/base",
            "top": null,
            "grid_column": null,
            "overflow_y": null,
            "overflow_x": null,
            "grid_auto_flow": null,
            "grid_area": null,
            "grid_template_columns": null,
            "flex": null,
            "_model_name": "LayoutModel",
            "justify_items": null,
            "grid_row": null,
            "max_height": null,
            "align_content": null,
            "visibility": null,
            "align_self": null,
            "height": null,
            "min_height": null,
            "padding": null,
            "grid_auto_rows": null,
            "grid_gap": null,
            "max_width": null,
            "order": null,
            "_view_module_version": "1.2.0",
            "grid_template_areas": null,
            "object_position": null,
            "object_fit": null,
            "grid_auto_columns": null,
            "margin": null,
            "display": null,
            "left": null
          }
        },
        "30038c18b3a34ad8961f42395d7bf9af": {
          "model_module": "@jupyter-widgets/controls",
          "model_name": "HBoxModel",
          "state": {
            "_view_name": "HBoxView",
            "_dom_classes": [],
            "_model_name": "HBoxModel",
            "_view_module": "@jupyter-widgets/controls",
            "_model_module_version": "1.5.0",
            "_view_count": null,
            "_view_module_version": "1.5.0",
            "box_style": "",
            "layout": "IPY_MODEL_67434514416b43acbd2fde3f789d43da",
            "_model_module": "@jupyter-widgets/controls",
            "children": [
              "IPY_MODEL_0691e24c663849b1bbc7337cac778c15",
              "IPY_MODEL_c29c7edcb0974987bc9980285ea91243"
            ]
          }
        },
        "67434514416b43acbd2fde3f789d43da": {
          "model_module": "@jupyter-widgets/base",
          "model_name": "LayoutModel",
          "state": {
            "_view_name": "LayoutView",
            "grid_template_rows": null,
            "right": null,
            "justify_content": null,
            "_view_module": "@jupyter-widgets/base",
            "overflow": null,
            "_model_module_version": "1.2.0",
            "_view_count": null,
            "flex_flow": null,
            "width": null,
            "min_width": null,
            "border": null,
            "align_items": null,
            "bottom": null,
            "_model_module": "@jupyter-widgets/base",
            "top": null,
            "grid_column": null,
            "overflow_y": null,
            "overflow_x": null,
            "grid_auto_flow": null,
            "grid_area": null,
            "grid_template_columns": null,
            "flex": null,
            "_model_name": "LayoutModel",
            "justify_items": null,
            "grid_row": null,
            "max_height": null,
            "align_content": null,
            "visibility": null,
            "align_self": null,
            "height": null,
            "min_height": null,
            "padding": null,
            "grid_auto_rows": null,
            "grid_gap": null,
            "max_width": null,
            "order": null,
            "_view_module_version": "1.2.0",
            "grid_template_areas": null,
            "object_position": null,
            "object_fit": null,
            "grid_auto_columns": null,
            "margin": null,
            "display": null,
            "left": null
          }
        },
        "0691e24c663849b1bbc7337cac778c15": {
          "model_module": "@jupyter-widgets/controls",
          "model_name": "FloatProgressModel",
          "state": {
            "_view_name": "ProgressView",
            "style": "IPY_MODEL_2983d66018d642e6895c53900238c628",
            "_dom_classes": [],
            "description": "Downloading: 100%",
            "_model_name": "FloatProgressModel",
            "bar_style": "success",
            "max": 478,
            "_view_module": "@jupyter-widgets/controls",
            "_model_module_version": "1.5.0",
            "value": 478,
            "_view_count": null,
            "_view_module_version": "1.5.0",
            "orientation": "horizontal",
            "min": 0,
            "description_tooltip": null,
            "_model_module": "@jupyter-widgets/controls",
            "layout": "IPY_MODEL_7f9c5c1249fd44f59c7d5618fa0d19d6"
          }
        },
        "c29c7edcb0974987bc9980285ea91243": {
          "model_module": "@jupyter-widgets/controls",
          "model_name": "HTMLModel",
          "state": {
            "_view_name": "HTMLView",
            "style": "IPY_MODEL_ac90144e3d624e4bb0921c3d9fbb4d2e",
            "_dom_classes": [],
            "description": "",
            "_model_name": "HTMLModel",
            "placeholder": "​",
            "_view_module": "@jupyter-widgets/controls",
            "_model_module_version": "1.5.0",
            "value": " 478/478 [00:00&lt;00:00, 15.6kB/s]",
            "_view_count": null,
            "_view_module_version": "1.5.0",
            "description_tooltip": null,
            "_model_module": "@jupyter-widgets/controls",
            "layout": "IPY_MODEL_6a2312173d94401ca676ab3d27627c2e"
          }
        },
        "2983d66018d642e6895c53900238c628": {
          "model_module": "@jupyter-widgets/controls",
          "model_name": "ProgressStyleModel",
          "state": {
            "_view_name": "StyleView",
            "_model_name": "ProgressStyleModel",
            "description_width": "initial",
            "_view_module": "@jupyter-widgets/base",
            "_model_module_version": "1.5.0",
            "_view_count": null,
            "_view_module_version": "1.2.0",
            "bar_color": null,
            "_model_module": "@jupyter-widgets/controls"
          }
        },
        "7f9c5c1249fd44f59c7d5618fa0d19d6": {
          "model_module": "@jupyter-widgets/base",
          "model_name": "LayoutModel",
          "state": {
            "_view_name": "LayoutView",
            "grid_template_rows": null,
            "right": null,
            "justify_content": null,
            "_view_module": "@jupyter-widgets/base",
            "overflow": null,
            "_model_module_version": "1.2.0",
            "_view_count": null,
            "flex_flow": null,
            "width": null,
            "min_width": null,
            "border": null,
            "align_items": null,
            "bottom": null,
            "_model_module": "@jupyter-widgets/base",
            "top": null,
            "grid_column": null,
            "overflow_y": null,
            "overflow_x": null,
            "grid_auto_flow": null,
            "grid_area": null,
            "grid_template_columns": null,
            "flex": null,
            "_model_name": "LayoutModel",
            "justify_items": null,
            "grid_row": null,
            "max_height": null,
            "align_content": null,
            "visibility": null,
            "align_self": null,
            "height": null,
            "min_height": null,
            "padding": null,
            "grid_auto_rows": null,
            "grid_gap": null,
            "max_width": null,
            "order": null,
            "_view_module_version": "1.2.0",
            "grid_template_areas": null,
            "object_position": null,
            "object_fit": null,
            "grid_auto_columns": null,
            "margin": null,
            "display": null,
            "left": null
          }
        },
        "ac90144e3d624e4bb0921c3d9fbb4d2e": {
          "model_module": "@jupyter-widgets/controls",
          "model_name": "DescriptionStyleModel",
          "state": {
            "_view_name": "StyleView",
            "_model_name": "DescriptionStyleModel",
            "description_width": "",
            "_view_module": "@jupyter-widgets/base",
            "_model_module_version": "1.5.0",
            "_view_count": null,
            "_view_module_version": "1.2.0",
            "_model_module": "@jupyter-widgets/controls"
          }
        },
        "6a2312173d94401ca676ab3d27627c2e": {
          "model_module": "@jupyter-widgets/base",
          "model_name": "LayoutModel",
          "state": {
            "_view_name": "LayoutView",
            "grid_template_rows": null,
            "right": null,
            "justify_content": null,
            "_view_module": "@jupyter-widgets/base",
            "overflow": null,
            "_model_module_version": "1.2.0",
            "_view_count": null,
            "flex_flow": null,
            "width": null,
            "min_width": null,
            "border": null,
            "align_items": null,
            "bottom": null,
            "_model_module": "@jupyter-widgets/base",
            "top": null,
            "grid_column": null,
            "overflow_y": null,
            "overflow_x": null,
            "grid_auto_flow": null,
            "grid_area": null,
            "grid_template_columns": null,
            "flex": null,
            "_model_name": "LayoutModel",
            "justify_items": null,
            "grid_row": null,
            "max_height": null,
            "align_content": null,
            "visibility": null,
            "align_self": null,
            "height": null,
            "min_height": null,
            "padding": null,
            "grid_auto_rows": null,
            "grid_gap": null,
            "max_width": null,
            "order": null,
            "_view_module_version": "1.2.0",
            "grid_template_areas": null,
            "object_position": null,
            "object_fit": null,
            "grid_auto_columns": null,
            "margin": null,
            "display": null,
            "left": null
          }
        },
        "3ae740afaf1c4215bb6f9cd7b9384994": {
          "model_module": "@jupyter-widgets/controls",
          "model_name": "HBoxModel",
          "state": {
            "_view_name": "HBoxView",
            "_dom_classes": [],
            "_model_name": "HBoxModel",
            "_view_module": "@jupyter-widgets/controls",
            "_model_module_version": "1.5.0",
            "_view_count": null,
            "_view_module_version": "1.5.0",
            "box_style": "",
            "layout": "IPY_MODEL_486453aecfaf44818a8676add48a0177",
            "_model_module": "@jupyter-widgets/controls",
            "children": [
              "IPY_MODEL_47e49b6417224e4f99df3402c8161ae3",
              "IPY_MODEL_b01321e99aab4c599e2fe6188b863157"
            ]
          }
        },
        "486453aecfaf44818a8676add48a0177": {
          "model_module": "@jupyter-widgets/base",
          "model_name": "LayoutModel",
          "state": {
            "_view_name": "LayoutView",
            "grid_template_rows": null,
            "right": null,
            "justify_content": null,
            "_view_module": "@jupyter-widgets/base",
            "overflow": null,
            "_model_module_version": "1.2.0",
            "_view_count": null,
            "flex_flow": null,
            "width": null,
            "min_width": null,
            "border": null,
            "align_items": null,
            "bottom": null,
            "_model_module": "@jupyter-widgets/base",
            "top": null,
            "grid_column": null,
            "overflow_y": null,
            "overflow_x": null,
            "grid_auto_flow": null,
            "grid_area": null,
            "grid_template_columns": null,
            "flex": null,
            "_model_name": "LayoutModel",
            "justify_items": null,
            "grid_row": null,
            "max_height": null,
            "align_content": null,
            "visibility": null,
            "align_self": null,
            "height": null,
            "min_height": null,
            "padding": null,
            "grid_auto_rows": null,
            "grid_gap": null,
            "max_width": null,
            "order": null,
            "_view_module_version": "1.2.0",
            "grid_template_areas": null,
            "object_position": null,
            "object_fit": null,
            "grid_auto_columns": null,
            "margin": null,
            "display": null,
            "left": null
          }
        },
        "47e49b6417224e4f99df3402c8161ae3": {
          "model_module": "@jupyter-widgets/controls",
          "model_name": "FloatProgressModel",
          "state": {
            "_view_name": "ProgressView",
            "style": "IPY_MODEL_0f694d8285a8458ca86bbdf0cf5d1991",
            "_dom_classes": [],
            "description": "Downloading:   0%",
            "_model_name": "FloatProgressModel",
            "bar_style": "",
            "max": 358893143,
            "_view_module": "@jupyter-widgets/controls",
            "_model_module_version": "1.5.0",
            "value": 210944,
            "_view_count": null,
            "_view_module_version": "1.5.0",
            "orientation": "horizontal",
            "min": 0,
            "description_tooltip": null,
            "_model_module": "@jupyter-widgets/controls",
            "layout": "IPY_MODEL_21907e92fa664fd7a96a0b370ca048af"
          }
        },
        "b01321e99aab4c599e2fe6188b863157": {
          "model_module": "@jupyter-widgets/controls",
          "model_name": "HTMLModel",
          "state": {
            "_view_name": "HTMLView",
            "style": "IPY_MODEL_45b70e2d21514c47a34dd9de465af43a",
            "_dom_classes": [],
            "description": "",
            "_model_name": "HTMLModel",
            "placeholder": "​",
            "_view_module": "@jupyter-widgets/controls",
            "_model_module_version": "1.5.0",
            "value": " 211k/359M [00:00&lt;4:05:15, 24.4kB/s]",
            "_view_count": null,
            "_view_module_version": "1.5.0",
            "description_tooltip": null,
            "_model_module": "@jupyter-widgets/controls",
            "layout": "IPY_MODEL_347f05b00d564d01a46251ed023c4b44"
          }
        },
        "0f694d8285a8458ca86bbdf0cf5d1991": {
          "model_module": "@jupyter-widgets/controls",
          "model_name": "ProgressStyleModel",
          "state": {
            "_view_name": "StyleView",
            "_model_name": "ProgressStyleModel",
            "description_width": "initial",
            "_view_module": "@jupyter-widgets/base",
            "_model_module_version": "1.5.0",
            "_view_count": null,
            "_view_module_version": "1.2.0",
            "bar_color": null,
            "_model_module": "@jupyter-widgets/controls"
          }
        },
        "21907e92fa664fd7a96a0b370ca048af": {
          "model_module": "@jupyter-widgets/base",
          "model_name": "LayoutModel",
          "state": {
            "_view_name": "LayoutView",
            "grid_template_rows": null,
            "right": null,
            "justify_content": null,
            "_view_module": "@jupyter-widgets/base",
            "overflow": null,
            "_model_module_version": "1.2.0",
            "_view_count": null,
            "flex_flow": null,
            "width": null,
            "min_width": null,
            "border": null,
            "align_items": null,
            "bottom": null,
            "_model_module": "@jupyter-widgets/base",
            "top": null,
            "grid_column": null,
            "overflow_y": null,
            "overflow_x": null,
            "grid_auto_flow": null,
            "grid_area": null,
            "grid_template_columns": null,
            "flex": null,
            "_model_name": "LayoutModel",
            "justify_items": null,
            "grid_row": null,
            "max_height": null,
            "align_content": null,
            "visibility": null,
            "align_self": null,
            "height": null,
            "min_height": null,
            "padding": null,
            "grid_auto_rows": null,
            "grid_gap": null,
            "max_width": null,
            "order": null,
            "_view_module_version": "1.2.0",
            "grid_template_areas": null,
            "object_position": null,
            "object_fit": null,
            "grid_auto_columns": null,
            "margin": null,
            "display": null,
            "left": null
          }
        },
        "45b70e2d21514c47a34dd9de465af43a": {
          "model_module": "@jupyter-widgets/controls",
          "model_name": "DescriptionStyleModel",
          "state": {
            "_view_name": "StyleView",
            "_model_name": "DescriptionStyleModel",
            "description_width": "",
            "_view_module": "@jupyter-widgets/base",
            "_model_module_version": "1.5.0",
            "_view_count": null,
            "_view_module_version": "1.2.0",
            "_model_module": "@jupyter-widgets/controls"
          }
        },
        "347f05b00d564d01a46251ed023c4b44": {
          "model_module": "@jupyter-widgets/base",
          "model_name": "LayoutModel",
          "state": {
            "_view_name": "LayoutView",
            "grid_template_rows": null,
            "right": null,
            "justify_content": null,
            "_view_module": "@jupyter-widgets/base",
            "overflow": null,
            "_model_module_version": "1.2.0",
            "_view_count": null,
            "flex_flow": null,
            "width": null,
            "min_width": null,
            "border": null,
            "align_items": null,
            "bottom": null,
            "_model_module": "@jupyter-widgets/base",
            "top": null,
            "grid_column": null,
            "overflow_y": null,
            "overflow_x": null,
            "grid_auto_flow": null,
            "grid_area": null,
            "grid_template_columns": null,
            "flex": null,
            "_model_name": "LayoutModel",
            "justify_items": null,
            "grid_row": null,
            "max_height": null,
            "align_content": null,
            "visibility": null,
            "align_self": null,
            "height": null,
            "min_height": null,
            "padding": null,
            "grid_auto_rows": null,
            "grid_gap": null,
            "max_width": null,
            "order": null,
            "_view_module_version": "1.2.0",
            "grid_template_areas": null,
            "object_position": null,
            "object_fit": null,
            "grid_auto_columns": null,
            "margin": null,
            "display": null,
            "left": null
          }
        }
      }
    }
  },
  "cells": [
    {
      "cell_type": "markdown",
      "metadata": {
        "id": "view-in-github",
        "colab_type": "text"
      },
      "source": [
        "<a href=\"https://colab.research.google.com/github/tchih11/qiita_eda/blob/main/notebooks/03_eda_verification.ipynb\" target=\"_parent\"><img src=\"https://colab.research.google.com/assets/colab-badge.svg\" alt=\"Open In Colab\"/></a>"
      ]
    },
    {
      "cell_type": "code",
      "metadata": {
        "colab": {
          "base_uri": "https://localhost:8080/"
        },
        "id": "BS1d3oIvQM6F",
        "outputId": "7419bbd6-3166-4edf-a985-f94c85b95bb8"
      },
      "source": [
        "!git clone https://{user_name}:@github.com/tchih11/qiita_eda.git"
      ],
      "execution_count": 1,
      "outputs": [
        {
          "output_type": "stream",
          "text": [
            "Cloning into 'qiita_eda'...\n",
            "remote: Enumerating objects: 26, done.\u001b[K\n",
            "remote: Counting objects: 100% (26/26), done.\u001b[K\n",
            "remote: Compressing objects: 100% (22/22), done.\u001b[K\n",
            "remote: Total 26 (delta 6), reused 4 (delta 1), pack-reused 0\u001b[K\n",
            "Unpacking objects: 100% (26/26), done.\n"
          ],
          "name": "stdout"
        }
      ]
    },
    {
      "cell_type": "code",
      "metadata": {
        "id": "xgZgOmhPZMx7",
        "colab": {
          "base_uri": "https://localhost:8080/"
        },
        "outputId": "54917b0d-fd2a-4a61-f992-05efa991ca86"
      },
      "source": [
        "import os\r\n",
        "!git clone https://github.com/Bjarten/early-stopping-pytorch.git\r\n",
        "os.rename('early-stopping-pytorch','early_stopping_pytorch')"
      ],
      "execution_count": 2,
      "outputs": [
        {
          "output_type": "stream",
          "text": [
            "Cloning into 'early-stopping-pytorch'...\n",
            "remote: Enumerating objects: 92, done.\u001b[K\n",
            "remote: Total 92 (delta 0), reused 0 (delta 0), pack-reused 92\u001b[K\n",
            "Unpacking objects: 100% (92/92), done.\n"
          ],
          "name": "stdout"
        }
      ]
    },
    {
      "cell_type": "code",
      "metadata": {
        "colab": {
          "base_uri": "https://localhost:8080/"
        },
        "id": "371V_1L21D7Z",
        "outputId": "27e68768-a4c6-4f76-abf6-be8328babf94"
      },
      "source": [
        "# 乱数シードの固定\r\n",
        "import os\r\n",
        "import random\r\n",
        "import numpy as np\r\n",
        "import torch\r\n",
        "import tarfile\r\n",
        "import os\r\n",
        "import glob\r\n",
        "import pandas as pd\r\n",
        "\r\n",
        "SEED_VALUE = 0  # これはなんでも良い\r\n",
        "os.environ['PYTHONHASHSEED'] = str(SEED_VALUE)\r\n",
        "random.seed(SEED_VALUE)\r\n",
        "np.random.seed(SEED_VALUE)\r\n",
        "torch.manual_seed(SEED_VALUE)  # PyTorchを使う場合"
      ],
      "execution_count": 3,
      "outputs": [
        {
          "output_type": "execute_result",
          "data": {
            "text/plain": [
              "<torch._C.Generator at 0x7f159d23dc60>"
            ]
          },
          "metadata": {
            "tags": []
          },
          "execution_count": 3
        }
      ]
    },
    {
      "cell_type": "code",
      "metadata": {
        "id": "Q3GBfl75oVnh"
      },
      "source": [
        "%%capture\r\n",
        "!pip install transformers==3.5.1\r\n",
        "!pip install fugashi\r\n",
        "!pip install ipadic"
      ],
      "execution_count": 4,
      "outputs": []
    },
    {
      "cell_type": "code",
      "metadata": {
        "id": "bnRfgXSw1Y2p"
      },
      "source": [
        "import glob\r\n",
        "import gzip\r\n",
        "import os\r\n",
        "import random\r\n",
        "import shutil\r\n",
        "import sqlite3\r\n",
        "import tarfile\r\n",
        "\r\n",
        "import numpy as np\r\n",
        "import pandas as pd\r\n",
        "import torch\r\n",
        "import torch.optim as optim\r\n",
        "import torchtext\r\n",
        "\r\n",
        "from early_stopping_pytorch.pytorchtools import EarlyStopping\r\n",
        "from torch import nn\r\n",
        "from torch.utils.data import DataLoader, RandomSampler, SequentialSampler,TensorDataset\r\n",
        "from tqdm import tqdm\r\n",
        "from transformers.modeling_bert import BertModel\r\n",
        "from transformers.tokenization_bert_japanese import BertJapaneseTokenizer\r\n",
        "\r\n",
        "from torch.utils.data import TensorDataset, Subset\r\n",
        "from sklearn.model_selection import train_test_split\r\n",
        "from transformers import BertForSequenceClassification"
      ],
      "execution_count": 5,
      "outputs": []
    },
    {
      "cell_type": "code",
      "metadata": {
        "id": "tXdJVhgYq9Z1",
        "colab": {
          "base_uri": "https://localhost:8080/",
          "height": 148,
          "referenced_widgets": [
            "ca393130422c4ecf8b3598ee2e9456cc",
            "968097ab5d97409f8eda8e5f58e6bf47",
            "bbce01a55cc34f7d86ce8d64a0e9a1fa",
            "bd66977a104f46ebb106c0681e2bc03c",
            "6b7e0e90f6784f4c9ecccdb73e0a93f2",
            "39f19a4a91c84aeab5200660fc69f22b",
            "93f0d990eaac4e04a404327ca6bb8498",
            "33c576b9fb124ebea93a1de0c195a1c7",
            "30038c18b3a34ad8961f42395d7bf9af",
            "67434514416b43acbd2fde3f789d43da",
            "0691e24c663849b1bbc7337cac778c15",
            "c29c7edcb0974987bc9980285ea91243",
            "2983d66018d642e6895c53900238c628",
            "7f9c5c1249fd44f59c7d5618fa0d19d6",
            "ac90144e3d624e4bb0921c3d9fbb4d2e",
            "6a2312173d94401ca676ab3d27627c2e",
            "3ae740afaf1c4215bb6f9cd7b9384994",
            "486453aecfaf44818a8676add48a0177",
            "47e49b6417224e4f99df3402c8161ae3",
            "b01321e99aab4c599e2fe6188b863157",
            "0f694d8285a8458ca86bbdf0cf5d1991",
            "21907e92fa664fd7a96a0b370ca048af",
            "45b70e2d21514c47a34dd9de465af43a",
            "347f05b00d564d01a46251ed023c4b44"
          ]
        },
        "outputId": "cb1b21e7-db2d-482a-eb46-9d6d1d74db63"
      },
      "source": [
        "pretrained_model = 'cl-tohoku/bert-base-japanese-char-whole-word-masking'\r\n",
        "tokenizer = BertJapaneseTokenizer.from_pretrained(pretrained_model)\r\n",
        "model = BertModel.from_pretrained(pretrained_model)\r\n",
        "batch_size = 16\r\n",
        "max_length = 512"
      ],
      "execution_count": null,
      "outputs": [
        {
          "output_type": "display_data",
          "data": {
            "application/vnd.jupyter.widget-view+json": {
              "model_id": "ca393130422c4ecf8b3598ee2e9456cc",
              "version_minor": 0,
              "version_major": 2
            },
            "text/plain": [
              "HBox(children=(FloatProgress(value=0.0, description='Downloading', max=15683.0, style=ProgressStyle(descriptio…"
            ]
          },
          "metadata": {
            "tags": []
          }
        },
        {
          "output_type": "stream",
          "text": [
            "\n"
          ],
          "name": "stdout"
        },
        {
          "output_type": "display_data",
          "data": {
            "application/vnd.jupyter.widget-view+json": {
              "model_id": "30038c18b3a34ad8961f42395d7bf9af",
              "version_minor": 0,
              "version_major": 2
            },
            "text/plain": [
              "HBox(children=(FloatProgress(value=0.0, description='Downloading', max=478.0, style=ProgressStyle(description_…"
            ]
          },
          "metadata": {
            "tags": []
          }
        },
        {
          "output_type": "stream",
          "text": [
            "\n"
          ],
          "name": "stdout"
        },
        {
          "output_type": "display_data",
          "data": {
            "application/vnd.jupyter.widget-view+json": {
              "model_id": "3ae740afaf1c4215bb6f9cd7b9384994",
              "version_minor": 0,
              "version_major": 2
            },
            "text/plain": [
              "HBox(children=(FloatProgress(value=0.0, description='Downloading', max=358893143.0, style=ProgressStyle(descri…"
            ]
          },
          "metadata": {
            "tags": []
          }
        }
      ]
    },
    {
      "cell_type": "code",
      "metadata": {
        "id": "AVJOTREx9_4j"
      },
      "source": [
        "def tokenizer_512(input_text):\r\n",
        "    return tokenizer.encode_plus(\r\n",
        "                    input_text,                      \r\n",
        "                    add_special_tokens = True, # Special Tokenの追加\r\n",
        "                    max_length = max_length,           # 文章の長さを固定（Padding/Trancatinating）\r\n",
        "                    padding = \"max_length\", # PADDINGで埋める\r\n",
        "                    truncation=True,\r\n",
        "                    return_tensors = 'pt',     #  Pytorch tensorsで返す\r\n",
        "                )[\"input_ids\"][0]\r\n",
        "\r\n",
        "def make_torch_dataset(df):\r\n",
        "\r\n",
        "    label = df.label_index\r\n",
        "    input_ids = []\r\n",
        "    for item in df.text.apply(tokenizer_512):\r\n",
        "        text = item.view(1, -1)\r\n",
        "        input_ids.append(text)\r\n",
        "        \r\n",
        "    ids = torch.cat(input_ids, dim=0)\r\n",
        "    label = torch.tensor(list(label))\r\n",
        "    \r\n",
        "    return TensorDataset(ids, label)\r\n",
        "\r\n",
        "def make_dataloader(train_eval_df, test_df):\r\n",
        "    torch.backends.cudnn.deterministic = True\r\n",
        "    random.seed(1)\r\n",
        "    torch.manual_seed(1)\r\n",
        "    train_eval_df.reset_index(drop=True,inplace=True)\r\n",
        "    train, eval = train_test_split(train_eval_df.label_index,stratify=train_eval_df.label_index,random_state=0,test_size=0.2)\r\n",
        "    train_df = train_eval_df.loc[train.index]\r\n",
        "    eval_df = train_eval_df.loc[eval.index]\r\n",
        "\r\n",
        "    dataset_train = make_torch_dataset(train_df)\r\n",
        "    dataset_eval = make_torch_dataset(eval_df)\r\n",
        "    dataset_test = make_torch_dataset(test_df)\r\n",
        "    \r\n",
        "    dl_train = DataLoader(dataset_train,batch_size = 16)\r\n",
        "    dl_eval = DataLoader(dataset_eval,batch_size = 16)\r\n",
        "    dl_test = DataLoader(dataset_test,batch_size = 16)\r\n",
        "\r\n",
        "    return dl_train, dl_eval, dl_test\r\n",
        "\r\n",
        "def train_model(dl_train, dl_eval, net, device, batch_size, criterion, optimizer, patience, n_epochs=20):\r\n",
        "\r\n",
        "    net.to(device)\r\n",
        "    batch_size = dl_train.batch_size\r\n",
        "\r\n",
        "    train_losses = []\r\n",
        "    valid_losses = []\r\n",
        "    avg_train_losses = []\r\n",
        "    avg_valid_losses = [] \r\n",
        "    \r\n",
        "    early_stopping = EarlyStopping(patience=patience, delta=0.005, verbose=True)\r\n",
        "    for epoch in tqdm(range(1, n_epochs + 1),total=n_epochs,position=0 ,leave=True, desc=\"train\"):\r\n",
        "        net.train() # prep model for training\r\n",
        "        for batch in dl_train:\r\n",
        "            data = batch[0].to(device)  # 文章\r\n",
        "            target = batch[1].to(device)  # ラベル\r\n",
        "            optimizer.zero_grad()\r\n",
        "            output = net(data)[0]\r\n",
        "            loss = criterion(output, target)\r\n",
        "            loss.backward()\r\n",
        "            optimizer.step()\r\n",
        "            train_losses.append(loss.item())\r\n",
        "\r\n",
        "        net.eval() # prep model for evaluation\r\n",
        "        for batch in dl_eval:\r\n",
        "            data = batch[0].to(device)  # 文章\r\n",
        "            target = batch[1].to(device)  # ラベル\r\n",
        "            output = net(data)[0]\r\n",
        "            loss = criterion(output, target)\r\n",
        "            valid_losses.append(loss.item())\r\n",
        "\r\n",
        "        train_loss = np.average(train_losses)\r\n",
        "        valid_loss = np.average(valid_losses)\r\n",
        "        avg_train_losses.append(train_loss)\r\n",
        "        avg_valid_losses.append(valid_loss)\r\n",
        "        \r\n",
        "        epoch_len = len(str(n_epochs))\r\n",
        "        \r\n",
        "        print_msg = (f'[{epoch:>{epoch_len}}/{n_epochs:>{epoch_len}}] ' +\r\n",
        "                     f'train_loss: {train_loss:.5f} ' +\r\n",
        "                     f'valid_loss: {valid_loss:.5f}')\r\n",
        "        \r\n",
        "        print(print_msg)\r\n",
        "        \r\n",
        "        # clear lists to track next epoch\r\n",
        "        train_losses = []\r\n",
        "        valid_losses = []\r\n",
        "        \r\n",
        "        # early_stopping needs the validation loss to check if it has decresed, \r\n",
        "        # and if it has, it will make a checkpoint of the current model\r\n",
        "        early_stopping(valid_loss, net)\r\n",
        "        \r\n",
        "        if early_stopping.early_stop:\r\n",
        "            print(\"Early stopping\")\r\n",
        "            break\r\n",
        "        \r\n",
        "    # load the last checkpoint with the best model\r\n",
        "    net.load_state_dict(torch.load('checkpoint.pt'))\r\n",
        "\r\n",
        "    return  net, avg_train_losses, avg_valid_losses\r\n",
        "\r\n",
        "def valid_test(net_trained, device, dl_test):\r\n",
        "    net_trained.eval()   # モデルを検証モードに\r\n",
        "    net_trained.to(device)  # GPU\r\n",
        "\r\n",
        "    epoch_corrects = 0\r\n",
        "\r\n",
        "    for batch in tqdm(dl_test,position=0 ,leave=True,desc=\"predict\"):  # testデータのDataLoader\r\n",
        "        data = batch[0].to(device)  # 文章\r\n",
        "        target = batch[1].to(device)  # ラベル\r\n",
        "\r\n",
        "        with torch.set_grad_enabled(False):\r\n",
        "            outputs = net_trained(data)[0]\r\n",
        "            _, preds = torch.max(outputs, 1)  # ラベルを予測\r\n",
        "            epoch_corrects += torch.sum(preds == target)  # 正解数の合計を更新\r\n",
        "\r\n",
        "    epoch_acc = epoch_corrects.double() / len(dl_test.dataset)\r\n",
        "    return epoch_acc"
      ],
      "execution_count": null,
      "outputs": []
    },
    {
      "cell_type": "code",
      "metadata": {
        "id": "I7GQqgSurotD"
      },
      "source": [
        "def modeling(train_eval_df,test_df,num_epochs=20):\r\n",
        "    \r\n",
        "    # GPU\r\n",
        "    device = torch.device(\"cuda:0\" if torch.cuda.is_available() else \"cpu\")\r\n",
        "    \r\n",
        "    # dataloader作成\r\n",
        "    dl_train, dl_eval, dl_test = make_dataloader(train_eval_df,test_df)\r\n",
        "    \r\n",
        "    # モデル構築\r\n",
        "    net = BertForSequenceClassification.from_pretrained(pretrained_model, num_labels=9)\r\n",
        "    net.train()\r\n",
        "\r\n",
        "    # 重みを変更する個所\r\n",
        "    for param in net.parameters():\r\n",
        "        param.requires_grad = False\r\n",
        "    for param in net.bert.encoder.layer[-1].parameters():\r\n",
        "        param.requires_grad = True\r\n",
        "    for param in net.classifier.parameters():\r\n",
        "        param.requires_grad = True\r\n",
        "\r\n",
        "    # 最適化手法\r\n",
        "    optimizer = optim.Adam([\r\n",
        "        {'params': net.bert.encoder.layer[-1].parameters(), 'lr': 5e-5},\r\n",
        "        {'params': net.classifier.parameters(), 'lr': 1e-4}\r\n",
        "    ])\r\n",
        "\r\n",
        "    # 損失関数\r\n",
        "    criterion = nn.CrossEntropyLoss()      \r\n",
        "    \r\n",
        "    # 訓練実施\r\n",
        "    net_trained,_,_ =  train_model(dl_train, dl_eval, net, device, batch_size, criterion, optimizer, 3, num_epochs)\r\n",
        "    \r\n",
        "    # テストデータで検証\r\n",
        "    epoch_acc = valid_test(net_trained, device, dl_test)\r\n",
        "    \r\n",
        "    return epoch_acc.item()"
      ],
      "execution_count": null,
      "outputs": []
    },
    {
      "cell_type": "code",
      "metadata": {
        "id": "A15E7YTtV7Mg"
      },
      "source": [
        "# test\r\n",
        "test_df = pd.read_pickle(\"/content/qiita_eda/data/test_df.pkl\")\r\n",
        "test_df.columns = [\"text\",\"label_index\"]"
      ],
      "execution_count": null,
      "outputs": []
    },
    {
      "cell_type": "code",
      "metadata": {
        "id": "uaAGf8rAV-G_"
      },
      "source": [
        "pickles_path = [\r\n",
        "                \"/content/qiita_eda/data/train_eval_eda_2000_5_16_gzip.pkl\",\r\n",
        "                # \"/content/qiita_eda/data/train_eval_eda_2000_10_16_gzip.pkl\"\r\n",
        "                ]\r\n",
        "# alpha_list = [5,10]\r\n",
        "alpha_list = [5]\r\n",
        "sampling_list = [500,1000,2000]\r\n",
        "num_agg_list = [0,1,4,9,16]"
      ],
      "execution_count": null,
      "outputs": []
    },
    {
      "cell_type": "code",
      "metadata": {
        "id": "-MDefSgZBC00"
      },
      "source": [
        "result = pd.DataFrame(columns=[\"sampling_n\",\"alpha\",\"num_agg\",\"accuracy\",\"size\"])\r\n",
        "\r\n",
        "# pickle読み込み\r\n",
        "for path,alpha in zip(pickles_path,alpha_list):\r\n",
        "    \r\n",
        "    train_eval_all = pd.read_pickle(path,compression=\"gzip\")\r\n",
        "    train_eval_all.reset_index(drop=True,inplace=True)\r\n",
        "\r\n",
        "    unique_text_ids = list(train_eval_all.text_id.unique())\r\n",
        "    raw_aug_id = train_eval_all.loc[train_eval_all.raw_flg==1,\"aug_id\"].unique()[0]\r\n",
        "\r\n",
        "    # 件数を絞る\r\n",
        "    for sampling_n in sampling_list:\r\n",
        "        \r\n",
        "        random.seed(0)\r\n",
        "        text_id_list = random.sample(unique_text_ids,sampling_n)\r\n",
        "        text_id_sampled = train_eval_all[train_eval_all.text_id.isin(text_id_list)]\r\n",
        "        \r\n",
        "        for i ,num_agg in enumerate(num_agg_list):\r\n",
        "            if alpha!=alpha_list[0] and num_agg==0:\r\n",
        "                continue\r\n",
        "            # n_augで絞る\r\n",
        "            aug_ids = list(text_id_sampled.loc[text_id_sampled.raw_flg==0,\"aug_id\"].unique())\r\n",
        "            random.seed(0)\r\n",
        "            aug_id_list = random.sample(aug_ids,num_agg)\r\n",
        "            aug_id_list.append(raw_aug_id)\r\n",
        "\r\n",
        "            train_eval_df = text_id_sampled.loc[text_id_sampled.aug_id.isin(aug_id_list),[\"text\",\"label_index\"]]\r\n",
        "            acc = modeling(train_eval_df,test_df)\r\n",
        "            idx = len(result)\r\n",
        "            result.loc[idx] = [sampling_n, alpha, num_agg, acc,len(train_eval_df)]\r\n",
        "            display(result)"
      ],
      "execution_count": null,
      "outputs": []
    },
    {
      "cell_type": "code",
      "metadata": {
        "id": "MQAOYKH-L3cZ"
      },
      "source": [
        ""
      ],
      "execution_count": null,
      "outputs": []
    }
  ]
}