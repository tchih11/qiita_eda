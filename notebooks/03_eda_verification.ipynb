{
  "nbformat": 4,
  "nbformat_minor": 0,
  "metadata": {
    "colab": {
      "name": "03_eda_verification.ipynb",
      "provenance": [],
      "collapsed_sections": [],
      "include_colab_link": true
    },
    "kernelspec": {
      "name": "python3",
      "display_name": "Python 3"
    },
    "accelerator": "GPU",
    "widgets": {
      "application/vnd.jupyter.widget-state+json": {
        "34a8de056d074547996728724f6e15db": {
          "model_module": "@jupyter-widgets/controls",
          "model_name": "HBoxModel",
          "state": {
            "_view_name": "HBoxView",
            "_dom_classes": [],
            "_model_name": "HBoxModel",
            "_view_module": "@jupyter-widgets/controls",
            "_model_module_version": "1.5.0",
            "_view_count": null,
            "_view_module_version": "1.5.0",
            "box_style": "",
            "layout": "IPY_MODEL_4fe4c1b19022434283ef19a9370b5c80",
            "_model_module": "@jupyter-widgets/controls",
            "children": [
              "IPY_MODEL_f84615e9811c4cfbb2db8d4ff3d1003d",
              "IPY_MODEL_4b5d956ea75044498df9c340df92b6a7"
            ]
          }
        },
        "4fe4c1b19022434283ef19a9370b5c80": {
          "model_module": "@jupyter-widgets/base",
          "model_name": "LayoutModel",
          "state": {
            "_view_name": "LayoutView",
            "grid_template_rows": null,
            "right": null,
            "justify_content": null,
            "_view_module": "@jupyter-widgets/base",
            "overflow": null,
            "_model_module_version": "1.2.0",
            "_view_count": null,
            "flex_flow": null,
            "width": null,
            "min_width": null,
            "border": null,
            "align_items": null,
            "bottom": null,
            "_model_module": "@jupyter-widgets/base",
            "top": null,
            "grid_column": null,
            "overflow_y": null,
            "overflow_x": null,
            "grid_auto_flow": null,
            "grid_area": null,
            "grid_template_columns": null,
            "flex": null,
            "_model_name": "LayoutModel",
            "justify_items": null,
            "grid_row": null,
            "max_height": null,
            "align_content": null,
            "visibility": null,
            "align_self": null,
            "height": null,
            "min_height": null,
            "padding": null,
            "grid_auto_rows": null,
            "grid_gap": null,
            "max_width": null,
            "order": null,
            "_view_module_version": "1.2.0",
            "grid_template_areas": null,
            "object_position": null,
            "object_fit": null,
            "grid_auto_columns": null,
            "margin": null,
            "display": null,
            "left": null
          }
        },
        "f84615e9811c4cfbb2db8d4ff3d1003d": {
          "model_module": "@jupyter-widgets/controls",
          "model_name": "FloatProgressModel",
          "state": {
            "_view_name": "ProgressView",
            "style": "IPY_MODEL_48086845c84b439fbfca3af3169edc7e",
            "_dom_classes": [],
            "description": "Downloading: 100%",
            "_model_name": "FloatProgressModel",
            "bar_style": "success",
            "max": 15683,
            "_view_module": "@jupyter-widgets/controls",
            "_model_module_version": "1.5.0",
            "value": 15683,
            "_view_count": null,
            "_view_module_version": "1.5.0",
            "orientation": "horizontal",
            "min": 0,
            "description_tooltip": null,
            "_model_module": "@jupyter-widgets/controls",
            "layout": "IPY_MODEL_164032a51e464c1ea12ad8c567b8e1c3"
          }
        },
        "4b5d956ea75044498df9c340df92b6a7": {
          "model_module": "@jupyter-widgets/controls",
          "model_name": "HTMLModel",
          "state": {
            "_view_name": "HTMLView",
            "style": "IPY_MODEL_c47a9463702f43dfb203249c0b2f0921",
            "_dom_classes": [],
            "description": "",
            "_model_name": "HTMLModel",
            "placeholder": "​",
            "_view_module": "@jupyter-widgets/controls",
            "_model_module_version": "1.5.0",
            "value": " 15.7k/15.7k [00:00&lt;00:00, 65.9kB/s]",
            "_view_count": null,
            "_view_module_version": "1.5.0",
            "description_tooltip": null,
            "_model_module": "@jupyter-widgets/controls",
            "layout": "IPY_MODEL_a38cdf4ea34943b18390821463325813"
          }
        },
        "48086845c84b439fbfca3af3169edc7e": {
          "model_module": "@jupyter-widgets/controls",
          "model_name": "ProgressStyleModel",
          "state": {
            "_view_name": "StyleView",
            "_model_name": "ProgressStyleModel",
            "description_width": "initial",
            "_view_module": "@jupyter-widgets/base",
            "_model_module_version": "1.5.0",
            "_view_count": null,
            "_view_module_version": "1.2.0",
            "bar_color": null,
            "_model_module": "@jupyter-widgets/controls"
          }
        },
        "164032a51e464c1ea12ad8c567b8e1c3": {
          "model_module": "@jupyter-widgets/base",
          "model_name": "LayoutModel",
          "state": {
            "_view_name": "LayoutView",
            "grid_template_rows": null,
            "right": null,
            "justify_content": null,
            "_view_module": "@jupyter-widgets/base",
            "overflow": null,
            "_model_module_version": "1.2.0",
            "_view_count": null,
            "flex_flow": null,
            "width": null,
            "min_width": null,
            "border": null,
            "align_items": null,
            "bottom": null,
            "_model_module": "@jupyter-widgets/base",
            "top": null,
            "grid_column": null,
            "overflow_y": null,
            "overflow_x": null,
            "grid_auto_flow": null,
            "grid_area": null,
            "grid_template_columns": null,
            "flex": null,
            "_model_name": "LayoutModel",
            "justify_items": null,
            "grid_row": null,
            "max_height": null,
            "align_content": null,
            "visibility": null,
            "align_self": null,
            "height": null,
            "min_height": null,
            "padding": null,
            "grid_auto_rows": null,
            "grid_gap": null,
            "max_width": null,
            "order": null,
            "_view_module_version": "1.2.0",
            "grid_template_areas": null,
            "object_position": null,
            "object_fit": null,
            "grid_auto_columns": null,
            "margin": null,
            "display": null,
            "left": null
          }
        },
        "c47a9463702f43dfb203249c0b2f0921": {
          "model_module": "@jupyter-widgets/controls",
          "model_name": "DescriptionStyleModel",
          "state": {
            "_view_name": "StyleView",
            "_model_name": "DescriptionStyleModel",
            "description_width": "",
            "_view_module": "@jupyter-widgets/base",
            "_model_module_version": "1.5.0",
            "_view_count": null,
            "_view_module_version": "1.2.0",
            "_model_module": "@jupyter-widgets/controls"
          }
        },
        "a38cdf4ea34943b18390821463325813": {
          "model_module": "@jupyter-widgets/base",
          "model_name": "LayoutModel",
          "state": {
            "_view_name": "LayoutView",
            "grid_template_rows": null,
            "right": null,
            "justify_content": null,
            "_view_module": "@jupyter-widgets/base",
            "overflow": null,
            "_model_module_version": "1.2.0",
            "_view_count": null,
            "flex_flow": null,
            "width": null,
            "min_width": null,
            "border": null,
            "align_items": null,
            "bottom": null,
            "_model_module": "@jupyter-widgets/base",
            "top": null,
            "grid_column": null,
            "overflow_y": null,
            "overflow_x": null,
            "grid_auto_flow": null,
            "grid_area": null,
            "grid_template_columns": null,
            "flex": null,
            "_model_name": "LayoutModel",
            "justify_items": null,
            "grid_row": null,
            "max_height": null,
            "align_content": null,
            "visibility": null,
            "align_self": null,
            "height": null,
            "min_height": null,
            "padding": null,
            "grid_auto_rows": null,
            "grid_gap": null,
            "max_width": null,
            "order": null,
            "_view_module_version": "1.2.0",
            "grid_template_areas": null,
            "object_position": null,
            "object_fit": null,
            "grid_auto_columns": null,
            "margin": null,
            "display": null,
            "left": null
          }
        },
        "1ec52297e6a74a96bc94c59dfa1c7d10": {
          "model_module": "@jupyter-widgets/controls",
          "model_name": "HBoxModel",
          "state": {
            "_view_name": "HBoxView",
            "_dom_classes": [],
            "_model_name": "HBoxModel",
            "_view_module": "@jupyter-widgets/controls",
            "_model_module_version": "1.5.0",
            "_view_count": null,
            "_view_module_version": "1.5.0",
            "box_style": "",
            "layout": "IPY_MODEL_e3294a92261f450180b59eebd0f4b931",
            "_model_module": "@jupyter-widgets/controls",
            "children": [
              "IPY_MODEL_0cec7d42ce074b9a97e97c99ae24806c",
              "IPY_MODEL_e63c18bfb1f84de28b6c23fad8fe58d1"
            ]
          }
        },
        "e3294a92261f450180b59eebd0f4b931": {
          "model_module": "@jupyter-widgets/base",
          "model_name": "LayoutModel",
          "state": {
            "_view_name": "LayoutView",
            "grid_template_rows": null,
            "right": null,
            "justify_content": null,
            "_view_module": "@jupyter-widgets/base",
            "overflow": null,
            "_model_module_version": "1.2.0",
            "_view_count": null,
            "flex_flow": null,
            "width": null,
            "min_width": null,
            "border": null,
            "align_items": null,
            "bottom": null,
            "_model_module": "@jupyter-widgets/base",
            "top": null,
            "grid_column": null,
            "overflow_y": null,
            "overflow_x": null,
            "grid_auto_flow": null,
            "grid_area": null,
            "grid_template_columns": null,
            "flex": null,
            "_model_name": "LayoutModel",
            "justify_items": null,
            "grid_row": null,
            "max_height": null,
            "align_content": null,
            "visibility": null,
            "align_self": null,
            "height": null,
            "min_height": null,
            "padding": null,
            "grid_auto_rows": null,
            "grid_gap": null,
            "max_width": null,
            "order": null,
            "_view_module_version": "1.2.0",
            "grid_template_areas": null,
            "object_position": null,
            "object_fit": null,
            "grid_auto_columns": null,
            "margin": null,
            "display": null,
            "left": null
          }
        },
        "0cec7d42ce074b9a97e97c99ae24806c": {
          "model_module": "@jupyter-widgets/controls",
          "model_name": "FloatProgressModel",
          "state": {
            "_view_name": "ProgressView",
            "style": "IPY_MODEL_4cc889321e2d475c8f8a322e512dc522",
            "_dom_classes": [],
            "description": "Downloading: 100%",
            "_model_name": "FloatProgressModel",
            "bar_style": "success",
            "max": 478,
            "_view_module": "@jupyter-widgets/controls",
            "_model_module_version": "1.5.0",
            "value": 478,
            "_view_count": null,
            "_view_module_version": "1.5.0",
            "orientation": "horizontal",
            "min": 0,
            "description_tooltip": null,
            "_model_module": "@jupyter-widgets/controls",
            "layout": "IPY_MODEL_bfeff52de04346da9d88b77ae7e97ace"
          }
        },
        "e63c18bfb1f84de28b6c23fad8fe58d1": {
          "model_module": "@jupyter-widgets/controls",
          "model_name": "HTMLModel",
          "state": {
            "_view_name": "HTMLView",
            "style": "IPY_MODEL_5ae4af7eff8342dba4bf73878c535770",
            "_dom_classes": [],
            "description": "",
            "_model_name": "HTMLModel",
            "placeholder": "​",
            "_view_module": "@jupyter-widgets/controls",
            "_model_module_version": "1.5.0",
            "value": " 478/478 [00:00&lt;00:00, 1.31kB/s]",
            "_view_count": null,
            "_view_module_version": "1.5.0",
            "description_tooltip": null,
            "_model_module": "@jupyter-widgets/controls",
            "layout": "IPY_MODEL_39274fe53f824522ae0224ef9d3532bd"
          }
        },
        "4cc889321e2d475c8f8a322e512dc522": {
          "model_module": "@jupyter-widgets/controls",
          "model_name": "ProgressStyleModel",
          "state": {
            "_view_name": "StyleView",
            "_model_name": "ProgressStyleModel",
            "description_width": "initial",
            "_view_module": "@jupyter-widgets/base",
            "_model_module_version": "1.5.0",
            "_view_count": null,
            "_view_module_version": "1.2.0",
            "bar_color": null,
            "_model_module": "@jupyter-widgets/controls"
          }
        },
        "bfeff52de04346da9d88b77ae7e97ace": {
          "model_module": "@jupyter-widgets/base",
          "model_name": "LayoutModel",
          "state": {
            "_view_name": "LayoutView",
            "grid_template_rows": null,
            "right": null,
            "justify_content": null,
            "_view_module": "@jupyter-widgets/base",
            "overflow": null,
            "_model_module_version": "1.2.0",
            "_view_count": null,
            "flex_flow": null,
            "width": null,
            "min_width": null,
            "border": null,
            "align_items": null,
            "bottom": null,
            "_model_module": "@jupyter-widgets/base",
            "top": null,
            "grid_column": null,
            "overflow_y": null,
            "overflow_x": null,
            "grid_auto_flow": null,
            "grid_area": null,
            "grid_template_columns": null,
            "flex": null,
            "_model_name": "LayoutModel",
            "justify_items": null,
            "grid_row": null,
            "max_height": null,
            "align_content": null,
            "visibility": null,
            "align_self": null,
            "height": null,
            "min_height": null,
            "padding": null,
            "grid_auto_rows": null,
            "grid_gap": null,
            "max_width": null,
            "order": null,
            "_view_module_version": "1.2.0",
            "grid_template_areas": null,
            "object_position": null,
            "object_fit": null,
            "grid_auto_columns": null,
            "margin": null,
            "display": null,
            "left": null
          }
        },
        "5ae4af7eff8342dba4bf73878c535770": {
          "model_module": "@jupyter-widgets/controls",
          "model_name": "DescriptionStyleModel",
          "state": {
            "_view_name": "StyleView",
            "_model_name": "DescriptionStyleModel",
            "description_width": "",
            "_view_module": "@jupyter-widgets/base",
            "_model_module_version": "1.5.0",
            "_view_count": null,
            "_view_module_version": "1.2.0",
            "_model_module": "@jupyter-widgets/controls"
          }
        },
        "39274fe53f824522ae0224ef9d3532bd": {
          "model_module": "@jupyter-widgets/base",
          "model_name": "LayoutModel",
          "state": {
            "_view_name": "LayoutView",
            "grid_template_rows": null,
            "right": null,
            "justify_content": null,
            "_view_module": "@jupyter-widgets/base",
            "overflow": null,
            "_model_module_version": "1.2.0",
            "_view_count": null,
            "flex_flow": null,
            "width": null,
            "min_width": null,
            "border": null,
            "align_items": null,
            "bottom": null,
            "_model_module": "@jupyter-widgets/base",
            "top": null,
            "grid_column": null,
            "overflow_y": null,
            "overflow_x": null,
            "grid_auto_flow": null,
            "grid_area": null,
            "grid_template_columns": null,
            "flex": null,
            "_model_name": "LayoutModel",
            "justify_items": null,
            "grid_row": null,
            "max_height": null,
            "align_content": null,
            "visibility": null,
            "align_self": null,
            "height": null,
            "min_height": null,
            "padding": null,
            "grid_auto_rows": null,
            "grid_gap": null,
            "max_width": null,
            "order": null,
            "_view_module_version": "1.2.0",
            "grid_template_areas": null,
            "object_position": null,
            "object_fit": null,
            "grid_auto_columns": null,
            "margin": null,
            "display": null,
            "left": null
          }
        },
        "e7a36a8daedb4a8392a9012dc79da655": {
          "model_module": "@jupyter-widgets/controls",
          "model_name": "HBoxModel",
          "state": {
            "_view_name": "HBoxView",
            "_dom_classes": [],
            "_model_name": "HBoxModel",
            "_view_module": "@jupyter-widgets/controls",
            "_model_module_version": "1.5.0",
            "_view_count": null,
            "_view_module_version": "1.5.0",
            "box_style": "",
            "layout": "IPY_MODEL_00da8e93671b4a78b1bb25e128fa17db",
            "_model_module": "@jupyter-widgets/controls",
            "children": [
              "IPY_MODEL_32db415324dc43fe9b6ac3b81db0a935",
              "IPY_MODEL_2a71261f1ecf4549a1838fca4cfd77f2"
            ]
          }
        },
        "00da8e93671b4a78b1bb25e128fa17db": {
          "model_module": "@jupyter-widgets/base",
          "model_name": "LayoutModel",
          "state": {
            "_view_name": "LayoutView",
            "grid_template_rows": null,
            "right": null,
            "justify_content": null,
            "_view_module": "@jupyter-widgets/base",
            "overflow": null,
            "_model_module_version": "1.2.0",
            "_view_count": null,
            "flex_flow": null,
            "width": null,
            "min_width": null,
            "border": null,
            "align_items": null,
            "bottom": null,
            "_model_module": "@jupyter-widgets/base",
            "top": null,
            "grid_column": null,
            "overflow_y": null,
            "overflow_x": null,
            "grid_auto_flow": null,
            "grid_area": null,
            "grid_template_columns": null,
            "flex": null,
            "_model_name": "LayoutModel",
            "justify_items": null,
            "grid_row": null,
            "max_height": null,
            "align_content": null,
            "visibility": null,
            "align_self": null,
            "height": null,
            "min_height": null,
            "padding": null,
            "grid_auto_rows": null,
            "grid_gap": null,
            "max_width": null,
            "order": null,
            "_view_module_version": "1.2.0",
            "grid_template_areas": null,
            "object_position": null,
            "object_fit": null,
            "grid_auto_columns": null,
            "margin": null,
            "display": null,
            "left": null
          }
        },
        "32db415324dc43fe9b6ac3b81db0a935": {
          "model_module": "@jupyter-widgets/controls",
          "model_name": "FloatProgressModel",
          "state": {
            "_view_name": "ProgressView",
            "style": "IPY_MODEL_edba2535ad7b4ce2881afdde2c4e0338",
            "_dom_classes": [],
            "description": "Downloading: 100%",
            "_model_name": "FloatProgressModel",
            "bar_style": "success",
            "max": 358893143,
            "_view_module": "@jupyter-widgets/controls",
            "_model_module_version": "1.5.0",
            "value": 358893143,
            "_view_count": null,
            "_view_module_version": "1.5.0",
            "orientation": "horizontal",
            "min": 0,
            "description_tooltip": null,
            "_model_module": "@jupyter-widgets/controls",
            "layout": "IPY_MODEL_78dbba279c434a398199303f93501de4"
          }
        },
        "2a71261f1ecf4549a1838fca4cfd77f2": {
          "model_module": "@jupyter-widgets/controls",
          "model_name": "HTMLModel",
          "state": {
            "_view_name": "HTMLView",
            "style": "IPY_MODEL_8231765c8d384cf080bf09efda80b7d8",
            "_dom_classes": [],
            "description": "",
            "_model_name": "HTMLModel",
            "placeholder": "​",
            "_view_module": "@jupyter-widgets/controls",
            "_model_module_version": "1.5.0",
            "value": " 359M/359M [00:10&lt;00:00, 33.3MB/s]",
            "_view_count": null,
            "_view_module_version": "1.5.0",
            "description_tooltip": null,
            "_model_module": "@jupyter-widgets/controls",
            "layout": "IPY_MODEL_f53d151193c744fdb1cec399a77a3df8"
          }
        },
        "edba2535ad7b4ce2881afdde2c4e0338": {
          "model_module": "@jupyter-widgets/controls",
          "model_name": "ProgressStyleModel",
          "state": {
            "_view_name": "StyleView",
            "_model_name": "ProgressStyleModel",
            "description_width": "initial",
            "_view_module": "@jupyter-widgets/base",
            "_model_module_version": "1.5.0",
            "_view_count": null,
            "_view_module_version": "1.2.0",
            "bar_color": null,
            "_model_module": "@jupyter-widgets/controls"
          }
        },
        "78dbba279c434a398199303f93501de4": {
          "model_module": "@jupyter-widgets/base",
          "model_name": "LayoutModel",
          "state": {
            "_view_name": "LayoutView",
            "grid_template_rows": null,
            "right": null,
            "justify_content": null,
            "_view_module": "@jupyter-widgets/base",
            "overflow": null,
            "_model_module_version": "1.2.0",
            "_view_count": null,
            "flex_flow": null,
            "width": null,
            "min_width": null,
            "border": null,
            "align_items": null,
            "bottom": null,
            "_model_module": "@jupyter-widgets/base",
            "top": null,
            "grid_column": null,
            "overflow_y": null,
            "overflow_x": null,
            "grid_auto_flow": null,
            "grid_area": null,
            "grid_template_columns": null,
            "flex": null,
            "_model_name": "LayoutModel",
            "justify_items": null,
            "grid_row": null,
            "max_height": null,
            "align_content": null,
            "visibility": null,
            "align_self": null,
            "height": null,
            "min_height": null,
            "padding": null,
            "grid_auto_rows": null,
            "grid_gap": null,
            "max_width": null,
            "order": null,
            "_view_module_version": "1.2.0",
            "grid_template_areas": null,
            "object_position": null,
            "object_fit": null,
            "grid_auto_columns": null,
            "margin": null,
            "display": null,
            "left": null
          }
        },
        "8231765c8d384cf080bf09efda80b7d8": {
          "model_module": "@jupyter-widgets/controls",
          "model_name": "DescriptionStyleModel",
          "state": {
            "_view_name": "StyleView",
            "_model_name": "DescriptionStyleModel",
            "description_width": "",
            "_view_module": "@jupyter-widgets/base",
            "_model_module_version": "1.5.0",
            "_view_count": null,
            "_view_module_version": "1.2.0",
            "_model_module": "@jupyter-widgets/controls"
          }
        },
        "f53d151193c744fdb1cec399a77a3df8": {
          "model_module": "@jupyter-widgets/base",
          "model_name": "LayoutModel",
          "state": {
            "_view_name": "LayoutView",
            "grid_template_rows": null,
            "right": null,
            "justify_content": null,
            "_view_module": "@jupyter-widgets/base",
            "overflow": null,
            "_model_module_version": "1.2.0",
            "_view_count": null,
            "flex_flow": null,
            "width": null,
            "min_width": null,
            "border": null,
            "align_items": null,
            "bottom": null,
            "_model_module": "@jupyter-widgets/base",
            "top": null,
            "grid_column": null,
            "overflow_y": null,
            "overflow_x": null,
            "grid_auto_flow": null,
            "grid_area": null,
            "grid_template_columns": null,
            "flex": null,
            "_model_name": "LayoutModel",
            "justify_items": null,
            "grid_row": null,
            "max_height": null,
            "align_content": null,
            "visibility": null,
            "align_self": null,
            "height": null,
            "min_height": null,
            "padding": null,
            "grid_auto_rows": null,
            "grid_gap": null,
            "max_width": null,
            "order": null,
            "_view_module_version": "1.2.0",
            "grid_template_areas": null,
            "object_position": null,
            "object_fit": null,
            "grid_auto_columns": null,
            "margin": null,
            "display": null,
            "left": null
          }
        }
      }
    }
  },
  "cells": [
    {
      "cell_type": "markdown",
      "metadata": {
        "id": "view-in-github",
        "colab_type": "text"
      },
      "source": [
        "<a href=\"https://colab.research.google.com/github/tchih11/qiita_eda/blob/main/notebooks/03_eda_verification.ipynb\" target=\"_parent\"><img src=\"https://colab.research.google.com/assets/colab-badge.svg\" alt=\"Open In Colab\"/></a>"
      ]
    },
    {
      "cell_type": "markdown",
      "metadata": {
        "id": "LngtB6qtPxeB"
      },
      "source": [
        "# 各種インストール"
      ]
    },
    {
      "cell_type": "code",
      "metadata": {
        "colab": {
          "base_uri": "https://localhost:8080/"
        },
        "id": "BS1d3oIvQM6F",
        "outputId": "dad0bbb2-7f26-4a10-9e54-0ca55c00b0d5"
      },
      "source": [
        "!git clone https://tchih11:@github.com/tchih11/qiita_eda.git"
      ],
      "execution_count": null,
      "outputs": [
        {
          "output_type": "stream",
          "text": [
            "Cloning into 'qiita_eda'...\n",
            "remote: Enumerating objects: 60, done.\u001b[K\n",
            "remote: Counting objects: 100% (60/60), done.\u001b[K\n",
            "remote: Compressing objects: 100% (56/56), done.\u001b[K\n",
            "remote: Total 60 (delta 29), reused 6 (delta 1), pack-reused 0\u001b[K\n",
            "Unpacking objects: 100% (60/60), done.\n"
          ],
          "name": "stdout"
        }
      ]
    },
    {
      "cell_type": "code",
      "metadata": {
        "id": "xgZgOmhPZMx7",
        "colab": {
          "base_uri": "https://localhost:8080/"
        },
        "outputId": "2363d843-efeb-434a-b754-a6142990f7b8"
      },
      "source": [
        "# early stopping 用\r\n",
        "import os\r\n",
        "!git clone https://github.com/Bjarten/early-stopping-pytorch.git\r\n",
        "os.rename('early-stopping-pytorch','early_stopping_pytorch')"
      ],
      "execution_count": null,
      "outputs": [
        {
          "output_type": "stream",
          "text": [
            "Cloning into 'early-stopping-pytorch'...\n",
            "remote: Enumerating objects: 92, done.\u001b[K\n",
            "remote: Total 92 (delta 0), reused 0 (delta 0), pack-reused 92\u001b[K\n",
            "Unpacking objects: 100% (92/92), done.\n"
          ],
          "name": "stdout"
        }
      ]
    },
    {
      "cell_type": "code",
      "metadata": {
        "id": "Q3GBfl75oVnh"
      },
      "source": [
        "%%capture\r\n",
        "!pip install transformers==3.5.1\r\n",
        "!pip install fugashi\r\n",
        "!pip install ipadic"
      ],
      "execution_count": null,
      "outputs": []
    },
    {
      "cell_type": "code",
      "metadata": {
        "id": "bnRfgXSw1Y2p",
        "colab": {
          "base_uri": "https://localhost:8080/"
        },
        "outputId": "164b33b9-515a-46cb-d138-50522407033d"
      },
      "source": [
        "import os\r\n",
        "import random\r\n",
        "\r\n",
        "import numpy as np\r\n",
        "import pandas as pd\r\n",
        "import torch\r\n",
        "import torch.optim as optim\r\n",
        "from early_stopping_pytorch.pytorchtools import EarlyStopping\r\n",
        "from sklearn.model_selection import train_test_split\r\n",
        "from torch import nn\r\n",
        "from torch.utils.data import DataLoader, TensorDataset\r\n",
        "from tqdm import tqdm\r\n",
        "from transformers import BertForSequenceClassification\r\n",
        "from transformers.tokenization_bert_japanese import BertJapaneseTokenizer\r\n",
        "\r\n",
        "SEED_VALUE = 0  # これはなんでも良い\r\n",
        "os.environ['PYTHONHASHSEED'] = str(SEED_VALUE)\r\n",
        "random.seed(SEED_VALUE)\r\n",
        "np.random.seed(SEED_VALUE)\r\n",
        "torch.manual_seed(SEED_VALUE)  # PyTorchを使う場合"
      ],
      "execution_count": null,
      "outputs": [
        {
          "output_type": "execute_result",
          "data": {
            "text/plain": [
              "<torch._C.Generator at 0x7fe6c36d9c30>"
            ]
          },
          "metadata": {
            "tags": []
          },
          "execution_count": 4
        }
      ]
    },
    {
      "cell_type": "code",
      "metadata": {
        "id": "tXdJVhgYq9Z1",
        "colab": {
          "base_uri": "https://localhost:8080/",
          "height": 66,
          "referenced_widgets": [
            "34a8de056d074547996728724f6e15db",
            "4fe4c1b19022434283ef19a9370b5c80",
            "f84615e9811c4cfbb2db8d4ff3d1003d",
            "4b5d956ea75044498df9c340df92b6a7",
            "48086845c84b439fbfca3af3169edc7e",
            "164032a51e464c1ea12ad8c567b8e1c3",
            "c47a9463702f43dfb203249c0b2f0921",
            "a38cdf4ea34943b18390821463325813"
          ]
        },
        "outputId": "f57c7717-fdfc-4c2b-e1d4-76b9bfb54881"
      },
      "source": [
        "pretrained_model = 'cl-tohoku/bert-base-japanese-char-whole-word-masking'\r\n",
        "tokenizer = BertJapaneseTokenizer.from_pretrained(pretrained_model)"
      ],
      "execution_count": null,
      "outputs": [
        {
          "output_type": "display_data",
          "data": {
            "application/vnd.jupyter.widget-view+json": {
              "model_id": "34a8de056d074547996728724f6e15db",
              "version_minor": 0,
              "version_major": 2
            },
            "text/plain": [
              "HBox(children=(FloatProgress(value=0.0, description='Downloading', max=15683.0, style=ProgressStyle(descriptio…"
            ]
          },
          "metadata": {
            "tags": []
          }
        },
        {
          "output_type": "stream",
          "text": [
            "\n"
          ],
          "name": "stdout"
        }
      ]
    },
    {
      "cell_type": "markdown",
      "metadata": {
        "id": "yLIMfUDFTOwL"
      },
      "source": [
        "# 関数の定義\r\n"
      ]
    },
    {
      "cell_type": "code",
      "metadata": {
        "id": "AVJOTREx9_4j"
      },
      "source": [
        "def tokenizer_512(input_text):\r\n",
        "    \"\"\"\r\n",
        "    文章をtokenizeしてpytorchのTensorに変換\r\n",
        "\r\n",
        "    Args:\r\n",
        "        input_text (str): tokenizeしたい文章\r\n",
        "\r\n",
        "    Returns:\r\n",
        "        Tensor\r\n",
        "    \"\"\"    \r\n",
        "    return tokenizer.encode_plus(\r\n",
        "                    input_text,                      \r\n",
        "                    add_special_tokens = True,\r\n",
        "                    max_length = max_length,\r\n",
        "                    padding = \"max_length\",\r\n",
        "                    truncation=True,\r\n",
        "                    return_tensors = 'pt',\r\n",
        "                )[\"input_ids\"][0]\r\n",
        "\r\n",
        "def make_torch_dataset(df, text_col, label_col, tokenizer):\r\n",
        "    \"\"\"\r\n",
        "    pandasのDataFrameで作成したデータをtokenizeしてpytorchのTensorDatasetへ変換\r\n",
        "\r\n",
        "    Args:\r\n",
        "        df (DataFrame): TensorDatasetへ変換するDataFrame\r\n",
        "        text_col (str): DataFrameの文章が格納されているカラム名\r\n",
        "        label_col (str): DataFrameの正解ラベルが格納されているカラム名\r\n",
        "        tokenizer (function): 使用するtokenizer\r\n",
        "\r\n",
        "    Returns:\r\n",
        "        TensorDataset\r\n",
        "    \"\"\"\r\n",
        "    label = df[label_col]\r\n",
        "    input_ids = []\r\n",
        "    for item in df[text_col].apply(tokenizer):\r\n",
        "        text = item.view(1, -1)\r\n",
        "        input_ids.append(text)\r\n",
        "        \r\n",
        "    ids = torch.cat(input_ids, dim=0)\r\n",
        "    label = torch.tensor(list(label))\r\n",
        "    \r\n",
        "    return TensorDataset(ids, label)\r\n",
        "\r\n",
        "\r\n",
        "def stratified_train_test_split_split(df,label_col,test_size=0.2):\r\n",
        "    \"\"\"\r\n",
        "    DataFrameを層化分割\r\n",
        "    \r\n",
        "    Args:\r\n",
        "        df (DataFrame): DataFrameの正解ラベルが格納されているカラム名\r\n",
        "        label_col (str): DataFrameの正解ラベルが格納されているカラム名\r\n",
        "        test_size (float, optional): testの割合. Defaults to 0.2.\r\n",
        "\r\n",
        "    Returns:\r\n",
        "        DataFrame\r\n",
        "    \"\"\"\r\n",
        "    df.reset_index(drop=True,inplace=True)\r\n",
        "    train, eval = train_test_split(df,stratify=df[label_col],random_state=0,test_size=0.2)\r\n",
        "    train_df = df.loc[train.index]\r\n",
        "    eval_df = df.loc[eval.index]\r\n",
        "    return train_df, eval_df\r\n",
        "    \r\n",
        "\r\n",
        "def train_model(net, dl_train, dl_eval, device, criterion, optimizer, patience=3, batch_size=16, n_epochs=20):\r\n",
        "    \"\"\"\r\n",
        "    early stoppingを使用したモデルの学習。\r\n",
        "\r\n",
        "    Args:\r\n",
        "        net (model): 学習の元となるモデル\r\n",
        "        dl_train (DataLoader): train用のDataLoader\r\n",
        "        dl_eval (DataLoader): eval用のDataLoader\r\n",
        "        device (device): 使用するdevice\r\n",
        "        criterion (criterion): 使用する損失関数\r\n",
        "        optimizer (optim): 使用するoptimizer\r\n",
        "        patience (int, optional): 指定のepoch数、指標が改善しなければearly stopping. Defaults to 3.\r\n",
        "        batch_size (int, optional): バッチサイズ. Defaults to 16.\r\n",
        "        n_epochs (int, optional): エポック数. Defaults to 20.\r\n",
        "\r\n",
        "    Returns:\r\n",
        "        model\r\n",
        "    \"\"\"    \r\n",
        "\r\n",
        "    net.to(device)\r\n",
        "    batch_size = dl_train.batch_size\r\n",
        "\r\n",
        "    train_losses = []\r\n",
        "    valid_losses = []\r\n",
        "    avg_train_losses = []\r\n",
        "    avg_valid_losses = [] \r\n",
        "    \r\n",
        "    early_stopping = EarlyStopping(patience=patience, delta=0.005, verbose=True)\r\n",
        "    for epoch in tqdm(range(1, n_epochs + 1),total=n_epochs,position=0 ,leave=True, desc=\"train\"):\r\n",
        "        net.train()\r\n",
        "        for batch in dl_train:\r\n",
        "            data = batch[0].to(device)  # 文章\r\n",
        "            target = batch[1].to(device)  # ラベル\r\n",
        "            optimizer.zero_grad()\r\n",
        "            output = net(data)[0]\r\n",
        "            loss = criterion(output, target)\r\n",
        "            loss.backward()\r\n",
        "            optimizer.step()\r\n",
        "            train_losses.append(loss.item())\r\n",
        "\r\n",
        "        net.eval()\r\n",
        "        for batch in dl_eval:\r\n",
        "            data = batch[0].to(device)  # 文章\r\n",
        "            target = batch[1].to(device)  # ラベル\r\n",
        "            output = net(data)[0]\r\n",
        "            loss = criterion(output, target)\r\n",
        "            valid_losses.append(loss.item())\r\n",
        "\r\n",
        "        train_loss = np.average(train_losses)\r\n",
        "        valid_loss = np.average(valid_losses)\r\n",
        "        avg_train_losses.append(train_loss)\r\n",
        "        avg_valid_losses.append(valid_loss)\r\n",
        "        \r\n",
        "        epoch_len = len(str(n_epochs))\r\n",
        "        \r\n",
        "        print_msg = (f'[{epoch:>{epoch_len}}/{n_epochs:>{epoch_len}}] ' +\r\n",
        "                     f'train_loss: {train_loss:.5f} ' +\r\n",
        "                     f'valid_loss: {valid_loss:.5f}')\r\n",
        "        \r\n",
        "        print(print_msg)\r\n",
        "        \r\n",
        "        train_losses = []\r\n",
        "        valid_losses = []\r\n",
        "        \r\n",
        "        early_stopping(valid_loss, net)\r\n",
        "        \r\n",
        "        if early_stopping.early_stop:\r\n",
        "            print(\"Early stopping\")\r\n",
        "            break\r\n",
        "        \r\n",
        "    net.load_state_dict(torch.load('checkpoint.pt'))\r\n",
        "\r\n",
        "    return net\r\n",
        "\r\n",
        "def valid_test(net_trained, device, dl_test):\r\n",
        "    \"\"\"\r\n",
        "    testデータへ当てはめ、accuracyの算出\r\n",
        "\r\n",
        "    Args:\r\n",
        "        net_trained (model): 学習済みモデル\r\n",
        "        device (device): 使用するdevice\r\n",
        "        dl_test (DataLoader): test用のDataLoader\r\n",
        "\r\n",
        "    Returns:\r\n",
        "        float: testデータのaccuracy\r\n",
        "    \"\"\"    \r\n",
        "    net_trained.eval()\r\n",
        "    net_trained.to(device)\r\n",
        "    epoch_corrects = 0\r\n",
        "\r\n",
        "    for batch in tqdm(dl_test,position=0 ,leave=True,desc=\"predict\"):\r\n",
        "        data = batch[0].to(device)  # 文章\r\n",
        "        target = batch[1].to(device)  # ラベル\r\n",
        "\r\n",
        "        with torch.set_grad_enabled(False):\r\n",
        "            outputs = net_trained(data)[0]\r\n",
        "            _, preds = torch.max(outputs, 1)\r\n",
        "            epoch_corrects += torch.sum(preds == target)\r\n",
        "\r\n",
        "    epoch_acc = epoch_corrects.double() / len(dl_test.dataset)\r\n",
        "    return epoch_acc"
      ],
      "execution_count": null,
      "outputs": []
    },
    {
      "cell_type": "code",
      "metadata": {
        "id": "I7GQqgSurotD"
      },
      "source": [
        "# 実行用\r\n",
        "def modeling(train_eval_df,test_df,num_epochs=20):\r\n",
        "    \r\n",
        "    # GPU設定\r\n",
        "    device = torch.device(\"cuda:0\" if torch.cuda.is_available() else \"cpu\")\r\n",
        "\r\n",
        "    # モデリング用データをtrainとevalに層化分割\r\n",
        "    train_df, eval_df = stratified_train_test_split_split(train_eval_df,label_col=\"label_index\")\r\n",
        "\r\n",
        "    # datasetに変換\r\n",
        "    dataset_train = make_torch_dataset(train_df, \"text\", \"label_index\", tokenizer_512)\r\n",
        "    dataset_eval = make_torch_dataset(eval_df, \"text\", \"label_index\", tokenizer_512)\r\n",
        "    dataset_test = make_torch_dataset(test_df, \"text\", \"label_index\", tokenizer_512)\r\n",
        "\r\n",
        "    # dataloader作成\r\n",
        "    torch.backends.cudnn.deterministic = True\r\n",
        "    torch.manual_seed(1)\r\n",
        "    dl_train = DataLoader(dataset_train,batch_size = batch_size)\r\n",
        "    dl_eval = DataLoader(dataset_eval,batch_size = batch_size)\r\n",
        "    dl_test = DataLoader(dataset_test,batch_size = batch_size)\r\n",
        "    \r\n",
        "    # モデル構築\r\n",
        "    net = BertForSequenceClassification.from_pretrained(pretrained_model, num_labels=9)\r\n",
        "    net.train()\r\n",
        "\r\n",
        "    # 重みを変更する個所\r\n",
        "    for param in net.parameters():\r\n",
        "        param.requires_grad = False\r\n",
        "    for param in net.bert.encoder.layer[-1].parameters():\r\n",
        "        param.requires_grad = True\r\n",
        "    for param in net.classifier.parameters():\r\n",
        "        param.requires_grad = True\r\n",
        "\r\n",
        "    # 最適化手法\r\n",
        "    optimizer = optim.Adam([\r\n",
        "        {'params': net.bert.encoder.layer[-1].parameters(), 'lr': 5e-5},\r\n",
        "        {'params': net.classifier.parameters(), 'lr': 1e-4}\r\n",
        "    ])\r\n",
        "\r\n",
        "    # 損失関数\r\n",
        "    criterion = nn.CrossEntropyLoss()      \r\n",
        "    \r\n",
        "    # 訓練実施\r\n",
        "    net_trained =  train_model(net, dl_train, dl_eval, device, criterion, optimizer)\r\n",
        "    \r\n",
        "    # テストデータで検証\r\n",
        "    epoch_acc = valid_test(net_trained, device, dl_test)\r\n",
        "    \r\n",
        "    return epoch_acc.item()"
      ],
      "execution_count": null,
      "outputs": []
    },
    {
      "cell_type": "markdown",
      "metadata": {
        "id": "up_RddXGI1F6"
      },
      "source": [
        "# モデリング、検証"
      ]
    },
    {
      "cell_type": "code",
      "metadata": {
        "id": "Q1yhW1HLP6HA"
      },
      "source": [
        "# パラメータの設定\r\n",
        "batch_size = 16\r\n",
        "max_length = 512\r\n",
        "\r\n",
        "# testデータの読み込み\r\n",
        "test_df = pd.read_pickle(\"/content/qiita_eda/data/test_df.pkl\")\r\n",
        "test_df.columns = [\"text\",\"label_index\"]\r\n",
        "\r\n",
        "# trainデータの設定\r\n",
        "pickles_path = [\r\n",
        "                \"/content/qiita_eda/data/train_eval_eda_2000_5_16_gzip.pkl\", # alpha=0.05で作成したデータセット\r\n",
        "                \"/content/qiita_eda/data/train_eval_eda_2000_10_16_gzip.pkl\" # alpha=0.10で作成したデータセット\r\n",
        "                ]                \r\n",
        "alpha_list = [5,10]\r\n",
        "sampling_list = [500, 1000]\r\n",
        "# sampling_list = [2000]\r\n",
        "num_agg_list = [0,1,4,8,16]"
      ],
      "execution_count": null,
      "outputs": []
    },
    {
      "cell_type": "code",
      "metadata": {
        "id": "-MDefSgZBC00",
        "colab": {
          "base_uri": "https://localhost:8080/",
          "height": 776,
          "referenced_widgets": [
            "1ec52297e6a74a96bc94c59dfa1c7d10",
            "e3294a92261f450180b59eebd0f4b931",
            "0cec7d42ce074b9a97e97c99ae24806c",
            "e63c18bfb1f84de28b6c23fad8fe58d1",
            "4cc889321e2d475c8f8a322e512dc522",
            "bfeff52de04346da9d88b77ae7e97ace",
            "5ae4af7eff8342dba4bf73878c535770",
            "39274fe53f824522ae0224ef9d3532bd",
            "e7a36a8daedb4a8392a9012dc79da655",
            "00da8e93671b4a78b1bb25e128fa17db",
            "32db415324dc43fe9b6ac3b81db0a935",
            "2a71261f1ecf4549a1838fca4cfd77f2",
            "edba2535ad7b4ce2881afdde2c4e0338",
            "78dbba279c434a398199303f93501de4",
            "8231765c8d384cf080bf09efda80b7d8",
            "f53d151193c744fdb1cec399a77a3df8"
          ]
        },
        "outputId": "5251aa75-7db5-436c-f890-804a4a88c824"
      },
      "source": [
        "result = pd.DataFrame(columns=[\"sampling_n\",\"alpha\",\"num_agg\",\"accuracy\",\"size\"])\r\n",
        "\r\n",
        "# pickle読み込み\r\n",
        "for path,alpha in zip(pickles_path,alpha_list):\r\n",
        "    \r\n",
        "    train_eval_all = pd.read_pickle(path,compression=\"gzip\")\r\n",
        "    train_eval_all.reset_index(drop=True,inplace=True)\r\n",
        "\r\n",
        "    unique_text_ids = list(train_eval_all.text_id.unique())\r\n",
        "    raw_aug_id = train_eval_all.loc[train_eval_all.raw_flg==1,\"aug_id\"].unique()[0]\r\n",
        "\r\n",
        "    # 件数を絞る\r\n",
        "    for sampling_n in sampling_list:\r\n",
        "        \r\n",
        "        random.seed(0)\r\n",
        "        text_id_list = random.sample(unique_text_ids,sampling_n)\r\n",
        "        text_id_sampled = train_eval_all[train_eval_all.text_id.isin(text_id_list)]\r\n",
        "        \r\n",
        "        for i ,num_agg in enumerate(num_agg_list):\r\n",
        "            if alpha!=alpha_list[0] and num_agg==0:\r\n",
        "                continue\r\n",
        "            # n_augで絞る\r\n",
        "            aug_ids = list(text_id_sampled.loc[text_id_sampled.raw_flg==0,\"aug_id\"].unique())\r\n",
        "            random.seed(0)\r\n",
        "            aug_id_list = random.sample(aug_ids,num_agg)\r\n",
        "            aug_id_list.append(raw_aug_id)\r\n",
        "\r\n",
        "            train_eval_df = text_id_sampled.loc[text_id_sampled.aug_id.isin(aug_id_list),[\"text\",\"label_index\"]]\r\n",
        "            acc = modeling(train_eval_df,test_df)\r\n",
        "            idx = len(result)\r\n",
        "            result.loc[idx] = [sampling_n, alpha, num_agg, acc,len(train_eval_df)]\r\n",
        "            display(result)"
      ],
      "execution_count": null,
      "outputs": [
        {
          "output_type": "display_data",
          "data": {
            "application/vnd.jupyter.widget-view+json": {
              "model_id": "1ec52297e6a74a96bc94c59dfa1c7d10",
              "version_minor": 0,
              "version_major": 2
            },
            "text/plain": [
              "HBox(children=(FloatProgress(value=0.0, description='Downloading', max=478.0, style=ProgressStyle(description_…"
            ]
          },
          "metadata": {
            "tags": []
          }
        },
        {
          "output_type": "stream",
          "text": [
            "\n"
          ],
          "name": "stdout"
        },
        {
          "output_type": "display_data",
          "data": {
            "application/vnd.jupyter.widget-view+json": {
              "model_id": "e7a36a8daedb4a8392a9012dc79da655",
              "version_minor": 0,
              "version_major": 2
            },
            "text/plain": [
              "HBox(children=(FloatProgress(value=0.0, description='Downloading', max=358893143.0, style=ProgressStyle(descri…"
            ]
          },
          "metadata": {
            "tags": []
          }
        },
        {
          "output_type": "stream",
          "text": [
            "\n"
          ],
          "name": "stdout"
        },
        {
          "output_type": "stream",
          "text": [
            "Some weights of the model checkpoint at cl-tohoku/bert-base-japanese-char-whole-word-masking were not used when initializing BertForSequenceClassification: ['cls.predictions.bias', 'cls.predictions.transform.dense.weight', 'cls.predictions.transform.dense.bias', 'cls.predictions.transform.LayerNorm.weight', 'cls.predictions.transform.LayerNorm.bias', 'cls.predictions.decoder.weight', 'cls.seq_relationship.weight', 'cls.seq_relationship.bias']\n",
            "- This IS expected if you are initializing BertForSequenceClassification from the checkpoint of a model trained on another task or with another architecture (e.g. initializing a BertForSequenceClassification model from a BertForPreTraining model).\n",
            "- This IS NOT expected if you are initializing BertForSequenceClassification from the checkpoint of a model that you expect to be exactly identical (initializing a BertForSequenceClassification model from a BertForSequenceClassification model).\n",
            "Some weights of BertForSequenceClassification were not initialized from the model checkpoint at cl-tohoku/bert-base-japanese-char-whole-word-masking and are newly initialized: ['classifier.weight', 'classifier.bias']\n",
            "You should probably TRAIN this model on a down-stream task to be able to use it for predictions and inference.\n",
            "train:   0%|          | 0/20 [00:00<?, ?it/s]"
          ],
          "name": "stderr"
        },
        {
          "output_type": "stream",
          "text": [
            "[ 1/20] train_loss: 2.06877 valid_loss: 1.82669\n",
            "Validation loss decreased (inf --> 1.826694).  Saving model ...\n"
          ],
          "name": "stdout"
        },
        {
          "output_type": "stream",
          "text": [
            "\rtrain:   5%|▌         | 1/20 [00:19<06:12, 19.62s/it]"
          ],
          "name": "stderr"
        },
        {
          "output_type": "stream",
          "text": [
            "[ 2/20] train_loss: 1.53702 valid_loss: 1.37713\n",
            "Validation loss decreased (1.826694 --> 1.377127).  Saving model ...\n"
          ],
          "name": "stdout"
        },
        {
          "output_type": "stream",
          "text": [
            "\rtrain:  10%|█         | 2/20 [00:39<05:55, 19.77s/it]"
          ],
          "name": "stderr"
        },
        {
          "output_type": "stream",
          "text": [
            "[ 3/20] train_loss: 1.05264 valid_loss: 1.04076\n",
            "Validation loss decreased (1.377127 --> 1.040764).  Saving model ...\n"
          ],
          "name": "stdout"
        },
        {
          "output_type": "stream",
          "text": [
            "\rtrain:  15%|█▌        | 3/20 [01:00<05:40, 20.04s/it]"
          ],
          "name": "stderr"
        },
        {
          "output_type": "stream",
          "text": [
            "[ 4/20] train_loss: 0.73808 valid_loss: 0.91777\n",
            "Validation loss decreased (1.040764 --> 0.917770).  Saving model ...\n"
          ],
          "name": "stdout"
        },
        {
          "output_type": "stream",
          "text": [
            "\rtrain:  20%|██        | 4/20 [01:21<05:27, 20.49s/it]"
          ],
          "name": "stderr"
        },
        {
          "output_type": "stream",
          "text": [
            "[ 5/20] train_loss: 0.55612 valid_loss: 0.85436\n",
            "Validation loss decreased (0.917770 --> 0.854359).  Saving model ...\n"
          ],
          "name": "stdout"
        },
        {
          "output_type": "stream",
          "text": [
            "\rtrain:  25%|██▌       | 5/20 [01:44<05:16, 21.07s/it]"
          ],
          "name": "stderr"
        },
        {
          "output_type": "stream",
          "text": [
            "[ 6/20] train_loss: 0.42931 valid_loss: 0.80538\n",
            "Validation loss decreased (0.854359 --> 0.805382).  Saving model ...\n"
          ],
          "name": "stdout"
        },
        {
          "output_type": "stream",
          "text": [
            "train:  35%|███▌      | 7/20 [02:26<04:32, 20.98s/it]"
          ],
          "name": "stderr"
        },
        {
          "output_type": "stream",
          "text": [
            "[ 7/20] train_loss: 0.32218 valid_loss: 0.82101\n",
            "EarlyStopping counter: 1 out of 3\n"
          ],
          "name": "stdout"
        },
        {
          "output_type": "stream",
          "text": [
            "\rtrain:  40%|████      | 8/20 [02:46<04:10, 20.83s/it]"
          ],
          "name": "stderr"
        },
        {
          "output_type": "stream",
          "text": [
            "[ 8/20] train_loss: 0.24574 valid_loss: 0.81267\n",
            "EarlyStopping counter: 2 out of 3\n",
            "[ 9/20] train_loss: 0.19898 valid_loss: 0.80819\n",
            "EarlyStopping counter: 3 out of 3\n",
            "Early stopping\n"
          ],
          "name": "stdout"
        },
        {
          "output_type": "stream",
          "text": [
            "predict: 100%|██████████| 92/92 [00:52<00:00,  1.74it/s]\n"
          ],
          "name": "stderr"
        },
        {
          "output_type": "display_data",
          "data": {
            "text/html": [
              "<div>\n",
              "<style scoped>\n",
              "    .dataframe tbody tr th:only-of-type {\n",
              "        vertical-align: middle;\n",
              "    }\n",
              "\n",
              "    .dataframe tbody tr th {\n",
              "        vertical-align: top;\n",
              "    }\n",
              "\n",
              "    .dataframe thead th {\n",
              "        text-align: right;\n",
              "    }\n",
              "</style>\n",
              "<table border=\"1\" class=\"dataframe\">\n",
              "  <thead>\n",
              "    <tr style=\"text-align: right;\">\n",
              "      <th></th>\n",
              "      <th>sampling_n</th>\n",
              "      <th>alpha</th>\n",
              "      <th>num_agg</th>\n",
              "      <th>accuracy</th>\n",
              "      <th>size</th>\n",
              "    </tr>\n",
              "  </thead>\n",
              "  <tbody>\n",
              "    <tr>\n",
              "      <th>0</th>\n",
              "      <td>500.0</td>\n",
              "      <td>5.0</td>\n",
              "      <td>0.0</td>\n",
              "      <td>0.793338</td>\n",
              "      <td>500.0</td>\n",
              "    </tr>\n",
              "  </tbody>\n",
              "</table>\n",
              "</div>"
            ],
            "text/plain": [
              "   sampling_n  alpha  num_agg  accuracy   size\n",
              "0       500.0    5.0      0.0  0.793338  500.0"
            ]
          },
          "metadata": {
            "tags": []
          }
        },
        {
          "output_type": "stream",
          "text": [
            "Some weights of the model checkpoint at cl-tohoku/bert-base-japanese-char-whole-word-masking were not used when initializing BertForSequenceClassification: ['cls.predictions.bias', 'cls.predictions.transform.dense.weight', 'cls.predictions.transform.dense.bias', 'cls.predictions.transform.LayerNorm.weight', 'cls.predictions.transform.LayerNorm.bias', 'cls.predictions.decoder.weight', 'cls.seq_relationship.weight', 'cls.seq_relationship.bias']\n",
            "- This IS expected if you are initializing BertForSequenceClassification from the checkpoint of a model trained on another task or with another architecture (e.g. initializing a BertForSequenceClassification model from a BertForPreTraining model).\n",
            "- This IS NOT expected if you are initializing BertForSequenceClassification from the checkpoint of a model that you expect to be exactly identical (initializing a BertForSequenceClassification model from a BertForSequenceClassification model).\n",
            "Some weights of BertForSequenceClassification were not initialized from the model checkpoint at cl-tohoku/bert-base-japanese-char-whole-word-masking and are newly initialized: ['classifier.weight', 'classifier.bias']\n",
            "You should probably TRAIN this model on a down-stream task to be able to use it for predictions and inference.\n",
            "train:   0%|          | 0/20 [00:00<?, ?it/s]"
          ],
          "name": "stderr"
        },
        {
          "output_type": "stream",
          "text": [
            "[ 1/20] train_loss: 1.83021 valid_loss: 1.26680\n",
            "Validation loss decreased (inf --> 1.266795).  Saving model ...\n"
          ],
          "name": "stdout"
        },
        {
          "output_type": "stream",
          "text": [
            "\rtrain:   5%|▌         | 1/20 [00:43<13:38, 43.09s/it]"
          ],
          "name": "stderr"
        }
      ]
    },
    {
      "cell_type": "code",
      "metadata": {
        "id": "MQAOYKH-L3cZ"
      },
      "source": [
        ""
      ],
      "execution_count": null,
      "outputs": []
    }
  ]
}